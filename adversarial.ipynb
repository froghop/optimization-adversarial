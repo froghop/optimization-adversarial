{
 "cells": [
  {
   "cell_type": "markdown",
   "metadata": {
    "id": "tVYA302cLyfP"
   },
   "source": [
    "# Provable Robustness for Deep Classifiers"
   ]
  },
  {
   "cell_type": "markdown",
   "metadata": {
    "id": "3LbEBZGKLyfZ"
   },
   "source": [
    "In this notebook, we will implement the robustness certificate that we derived in the PDF. That is, we will first define and train a three-layer neural classifier; then, we will calculate its dual, and using this, check whether the classifier is dual at given input points.\n",
    "\n",
    "**Your task is to fill in any sections labeled TODO in the code and answer the bolded questions.**"
   ]
  },
  {
   "cell_type": "markdown",
   "metadata": {
    "id": "zCrjXWE7pQ9f"
   },
   "source": [
    "## Torch"
   ]
  },
  {
   "cell_type": "markdown",
   "metadata": {
    "id": "GJMgQYklLyfd"
   },
   "source": [
    "We are using torch here; for our purposes, we can think of torch as essentially numpy with GPU support and and automatic differentiation. That is, for any function we compute, torch automatically keeps track of the function's gradient with respect to inputs; this will make gradient descent much easier to implement. \n",
    "\n",
    "The primary object you will need to manipulate here is `torch.Tensor`, which can be thought of as equivalent to  `np.array`. Indexing, splicing, multiplication, etc. will work like you would expect them to in numpy.\n",
    "\n",
    "Also, most of the numpy functions you are used to are present in torch, with the same name. E.g:\n",
    "* `np.max(input, axis)` --> `torch.max(input, dim)` (Note that `torch.max` actually returns a tuple of the max and argmax).\n",
    "* `np.zeros` --> `torch.zeros`\n",
    "* `np.eye` --> `torch.eye`\n",
    "* `np.linalg.norm(x, ord, axis)` --> `torch.norm(input, p, dim)`\n",
    "\n",
    "For more information, refer to the [torch documentation](https://pytorch.org/docs/stable/torch.html) or the [torch tutorials](https://pytorch.org/tutorials/)."
   ]
  },
  {
   "cell_type": "markdown",
   "metadata": {
    "id": "L3ChNfnaLBbw"
   },
   "source": [
    "## Setup"
   ]
  },
  {
   "cell_type": "markdown",
   "metadata": {
    "id": "PczgocJtLBb0"
   },
   "source": [
    "Here, we import the relevant libraries."
   ]
  },
  {
   "cell_type": "code",
   "execution_count": 18,
   "metadata": {
    "id": "y3oepvCSLyfi"
   },
   "outputs": [],
   "source": [
    "import torch\n",
    "import torchvision\n",
    "import torchvision.transforms as transforms\n",
    "from torchvision import datasets, transforms\n",
    "import torch.nn as nn\n",
    "import torch.nn.functional as F\n",
    "import torch.optim as optim\n",
    "import warnings\n",
    "warnings.filterwarnings('ignore')\n",
    "\n",
    "import numpy as np\n",
    "import matplotlib.pyplot as plt\n",
    "import copy\n",
    "from PIL import Image, ImageOps"
   ]
  },
  {
   "cell_type": "markdown",
   "metadata": {
    "id": "DPbnELbsLBcM"
   },
   "source": [
    "This line tells torch to use the GPU if available, and otherwise the CPU."
   ]
  },
  {
   "cell_type": "code",
   "execution_count": 2,
   "metadata": {
    "colab": {
     "base_uri": "https://localhost:8080/"
    },
    "id": "hBpT1WebQ394",
    "outputId": "17517484-778f-4ef3-dd55-f2e455d6ef54"
   },
   "outputs": [
    {
     "name": "stdout",
     "output_type": "stream",
     "text": [
      "cpu\n"
     ]
    }
   ],
   "source": [
    "device = torch.device(\"cuda:0\" if torch.cuda.is_available() else \"cpu\")\n",
    "print(device)"
   ]
  },
  {
   "cell_type": "markdown",
   "metadata": {
    "id": "awgBbuiRLyf0"
   },
   "source": [
    "Here, we load in the MNIST dataset. The inputs are $28\\times 28$ images of handwritten digits, while the labels are the corresponding digit. Note that we split the data between a training set and a test set. In order to have an unbiased estimate of the classifier's performance, we must train the model only on the training set (**never the test set**), then test its accuracy on the test set."
   ]
  },
  {
   "cell_type": "code",
   "execution_count": 3,
   "metadata": {
    "colab": {
     "base_uri": "https://localhost:8080/",
     "height": 423,
     "referenced_widgets": [
      "679bf11802e245e4be0e0b037eded30c",
      "3042946cfa01449391db36b136257627",
      "a2859a4e9f074760bdbb2624dc2ca6d1",
      "2f6f99436cef4622a01cee87dae0b884",
      "cdf3108d3ca7433784e1f95f1c34ad30",
      "35280467db4c4ac0b1cef6e78fda1946",
      "53fb7287d62b43eab117e765ea78865a",
      "412196865fea44e4aaa625663a5478ca",
      "5dc810479d8b4819b8b1f7b58502a752",
      "6dcc342fb5a944cca55dc6a47b57af9e",
      "938b73e7453444f788a1e8b8ba208834",
      "659ca0721fef43319e38a43f11ca13f2",
      "3dfc31d266504a6c871571a81ea3c4cd",
      "fbbe1dadb04c41aa98c14c3d4be1a73e",
      "5270fb6044ac4916971d496a1f5c02f3",
      "978833da39fb4e0aa2cb4d3f756e9ca9",
      "bd93f7d7ff044a25ab883c044c423080",
      "43f9dbd63bcf4fe1ab49cb674ba9dfad",
      "8bb542ef110d451eb46769ed37dcc996",
      "f30aae9327b6460785454892c21961ff",
      "f599145d36c44b91a64da3416ad8393a",
      "a55cfb82577045e1b900fd97d8abe86f",
      "9b31f05d924c4da39bb985156b69a618",
      "b2ffbff6b4f04a03ba9e15afdc0eac23",
      "a6157916498a4fe5b9625052884c4f4a",
      "0f5c58e1e2214d50afb34c18b7a8b521",
      "b5ea3818dfd24f20a5da8b3226209ec2",
      "cdb8984910674fa094918207887bd6ea",
      "6275d1b062d1451186940657361cd8f7",
      "2c8fdce61e9e48989d3bfa7f085ec314",
      "239855550b7e4e1d9916f8a28f71a0fc",
      "0e7cf5ac9a8349ddb2753b84dc5e430f",
      "a4dda98dde4b4245a04b2c2ff98534e2",
      "6f776de565e746e0ab3ee05e0c39bc38",
      "ff2206f2bf1e45a2a8ed9a324ea8efa0",
      "a0808e5cb14f4f97b6384016a4961085",
      "c06056491383454397d80f90746f69be",
      "2bac7aa23b7a4cb59b9a99b4c7a7afaf",
      "1938e8c0f68e4cd8a8cbc511a6f8d482",
      "c66f1d3f380444acbdac5e98cfd04831",
      "fca0a1c63b0d4504a7008130dd0c7026",
      "b6b1378e60a942cabab81356df4c982e",
      "a6d04acd67c34ea0bb58c6f8ef12f5e3",
      "4db7853a99574e30be6509f79778906b"
     ]
    },
    "collapsed": true,
    "id": "q58IyfpGLyf4",
    "outputId": "e5eb657b-f68a-4388-cb34-9219d76ba0b5"
   },
   "outputs": [
    {
     "name": "stdout",
     "output_type": "stream",
     "text": [
      "Downloading http://yann.lecun.com/exdb/mnist/train-images-idx3-ubyte.gz\n",
      "Downloading http://yann.lecun.com/exdb/mnist/train-images-idx3-ubyte.gz to ../data/MNIST/raw/train-images-idx3-ubyte.gz\n"
     ]
    },
    {
     "data": {
      "application/json": {
       "ascii": false,
       "bar_format": null,
       "colour": null,
       "elapsed": 0.03227877616882324,
       "initial": 0,
       "n": 0,
       "ncols": null,
       "nrows": 24,
       "postfix": null,
       "prefix": "",
       "rate": null,
       "total": 9912422,
       "unit": "it",
       "unit_divisor": 1000,
       "unit_scale": false
      },
      "application/vnd.jupyter.widget-view+json": {
       "model_id": "dd7689e8feb8471fb5032c44db360b5a",
       "version_major": 2,
       "version_minor": 0
      },
      "text/plain": [
       "  0%|          | 0/9912422 [00:00<?, ?it/s]"
      ]
     },
     "metadata": {},
     "output_type": "display_data"
    },
    {
     "name": "stdout",
     "output_type": "stream",
     "text": [
      "Extracting ../data/MNIST/raw/train-images-idx3-ubyte.gz to ../data/MNIST/raw\n",
      "\n",
      "Downloading http://yann.lecun.com/exdb/mnist/train-labels-idx1-ubyte.gz\n",
      "Downloading http://yann.lecun.com/exdb/mnist/train-labels-idx1-ubyte.gz to ../data/MNIST/raw/train-labels-idx1-ubyte.gz\n"
     ]
    },
    {
     "data": {
      "application/json": {
       "ascii": false,
       "bar_format": null,
       "colour": null,
       "elapsed": 0.01604485511779785,
       "initial": 0,
       "n": 0,
       "ncols": null,
       "nrows": 24,
       "postfix": null,
       "prefix": "",
       "rate": null,
       "total": 28881,
       "unit": "it",
       "unit_divisor": 1000,
       "unit_scale": false
      },
      "application/vnd.jupyter.widget-view+json": {
       "model_id": "2f49352f3e5a409792f485f1b62c487b",
       "version_major": 2,
       "version_minor": 0
      },
      "text/plain": [
       "  0%|          | 0/28881 [00:00<?, ?it/s]"
      ]
     },
     "metadata": {},
     "output_type": "display_data"
    },
    {
     "name": "stdout",
     "output_type": "stream",
     "text": [
      "Extracting ../data/MNIST/raw/train-labels-idx1-ubyte.gz to ../data/MNIST/raw\n",
      "\n",
      "Downloading http://yann.lecun.com/exdb/mnist/t10k-images-idx3-ubyte.gz\n",
      "Downloading http://yann.lecun.com/exdb/mnist/t10k-images-idx3-ubyte.gz to ../data/MNIST/raw/t10k-images-idx3-ubyte.gz\n"
     ]
    },
    {
     "data": {
      "application/json": {
       "ascii": false,
       "bar_format": null,
       "colour": null,
       "elapsed": 0.014394760131835938,
       "initial": 0,
       "n": 0,
       "ncols": null,
       "nrows": 24,
       "postfix": null,
       "prefix": "",
       "rate": null,
       "total": 1648877,
       "unit": "it",
       "unit_divisor": 1000,
       "unit_scale": false
      },
      "application/vnd.jupyter.widget-view+json": {
       "model_id": "fee029f6b03c4d2baf36c1506e5393ad",
       "version_major": 2,
       "version_minor": 0
      },
      "text/plain": [
       "  0%|          | 0/1648877 [00:00<?, ?it/s]"
      ]
     },
     "metadata": {},
     "output_type": "display_data"
    },
    {
     "name": "stdout",
     "output_type": "stream",
     "text": [
      "Extracting ../data/MNIST/raw/t10k-images-idx3-ubyte.gz to ../data/MNIST/raw\n",
      "\n",
      "Downloading http://yann.lecun.com/exdb/mnist/t10k-labels-idx1-ubyte.gz\n",
      "Downloading http://yann.lecun.com/exdb/mnist/t10k-labels-idx1-ubyte.gz to ../data/MNIST/raw/t10k-labels-idx1-ubyte.gz\n"
     ]
    },
    {
     "data": {
      "application/json": {
       "ascii": false,
       "bar_format": null,
       "colour": null,
       "elapsed": 0.01825118064880371,
       "initial": 0,
       "n": 0,
       "ncols": null,
       "nrows": 24,
       "postfix": null,
       "prefix": "",
       "rate": null,
       "total": 4542,
       "unit": "it",
       "unit_divisor": 1000,
       "unit_scale": false
      },
      "application/vnd.jupyter.widget-view+json": {
       "model_id": "0eaf08d30070460bae7d08caa0acfeda",
       "version_major": 2,
       "version_minor": 0
      },
      "text/plain": [
       "  0%|          | 0/4542 [00:00<?, ?it/s]"
      ]
     },
     "metadata": {},
     "output_type": "display_data"
    },
    {
     "name": "stdout",
     "output_type": "stream",
     "text": [
      "Extracting ../data/MNIST/raw/t10k-labels-idx1-ubyte.gz to ../data/MNIST/raw\n",
      "\n"
     ]
    }
   ],
   "source": [
    "transform = transforms.Compose(\n",
    "    [transforms.ToTensor(),\n",
    "     transforms.Normalize((0.5,), (0.5,))])\n",
    "\n",
    "trainset = torchvision.datasets.MNIST(root='../data', train=True, download=True, transform=transform)\n",
    "\n",
    "trainloader = torch.utils.data.DataLoader(trainset, batch_size=4,\n",
    "                                          shuffle=True, num_workers=2)\n",
    "\n",
    "testset = torchvision.datasets.MNIST(root='../data', train=False,\n",
    "                                       download=True, transform=transform)\n",
    "\n",
    "testloader = torch.utils.data.DataLoader(testset, batch_size=4,\n",
    "                                         shuffle=False, num_workers=2)"
   ]
  },
  {
   "cell_type": "code",
   "execution_count": 4,
   "metadata": {},
   "outputs": [],
   "source": [
    "transform = transforms.Compose([transforms.CenterCrop((28, 28)),\n",
    "                                transforms.Grayscale(1),\n",
    "                                transforms.ToTensor()])\n",
    "mixed_images = datasets.ImageFolder('/Users/calamos/Desktop/pixmix/ImageFolder', transform=transform)"
   ]
  },
  {
   "cell_type": "code",
   "execution_count": 5,
   "metadata": {},
   "outputs": [],
   "source": [
    "def get_random_mixer():\n",
    "    return torch.utils.data.Subset(mixed_images, [np.random.randint(18930)])[0][0].squeeze(0)\n",
    "\n",
    "def get_random_mnist():\n",
    "    return torch.utils.data.Subset(trainset, [np.random.randint(60000)])[0][0].squeeze(0)"
   ]
  },
  {
   "cell_type": "code",
   "execution_count": 7,
   "metadata": {
    "id": "3EkoFimALygG"
   },
   "outputs": [],
   "source": [
    "def imshow(img):\n",
    "    '''\n",
    "    Visualizes IMG.\n",
    "    IMG should be a 2D torch Tensor.\n",
    "    '''\n",
    "    img = img / 2 + 0.5     # unnormalize\n",
    "    npimg = img.detach().numpy()\n",
    "    plt.imshow(npimg, cmap='gray')\n",
    "    plt.show()"
   ]
  },
  {
   "cell_type": "code",
   "execution_count": 8,
   "metadata": {},
   "outputs": [],
   "source": [
    "IMAGE_SIZE = 28"
   ]
  },
  {
   "cell_type": "code",
   "execution_count": 9,
   "metadata": {},
   "outputs": [],
   "source": [
    "### Credit: Hendrycks, Zou, et al. (2022)\n",
    "### AUGMENTATIONS ###\n",
    "def int_parameter(level, maxval):\n",
    "  \"\"\"Helper function to scale `val` between 0 and maxval .\n",
    "\n",
    "  Args:\n",
    "    level: Level of the operation that will be between [0, `PARAMETER_MAX`].\n",
    "    maxval: Maximum value that the operation can have. This will be scaled to\n",
    "      level/PARAMETER_MAX.\n",
    "\n",
    "  Returns:\n",
    "    An int that results from scaling `maxval` according to `level`.\n",
    "  \"\"\"\n",
    "  return int(level * maxval / 10)\n",
    "\n",
    "\n",
    "def float_parameter(level, maxval):\n",
    "  \"\"\"Helper function to scale `val` between 0 and maxval.\n",
    "\n",
    "  Args:\n",
    "    level: Level of the operation that will be between [0, `PARAMETER_MAX`].\n",
    "    maxval: Maximum value that the operation can have. This will be scaled to\n",
    "      level/PARAMETER_MAX.\n",
    "\n",
    "  Returns:\n",
    "    A float that results from scaling `maxval` according to `level`.\n",
    "  \"\"\"\n",
    "  return float(level) * maxval / 10.\n",
    "\n",
    "\n",
    "def sample_level(n):\n",
    "  return np.random.uniform(low=0.1, high=n)\n",
    "\n",
    "\n",
    "def autocontrast(pil_img, _):\n",
    "  return ImageOps.autocontrast(pil_img)\n",
    "\n",
    "\n",
    "def equalize(pil_img, _):\n",
    "  return ImageOps.equalize(pil_img)\n",
    "\n",
    "\n",
    "def posterize(pil_img, level):\n",
    "  level = int_parameter(sample_level(level), 4)\n",
    "  return ImageOps.posterize(pil_img, 4 - level)\n",
    "\n",
    "\n",
    "def rotate(pil_img, level):\n",
    "    ###NOTE: removed from list of augmentations since some digits are not rotation-invariant\n",
    "  degrees = int_parameter(sample_level(level), 30)\n",
    "  if np.random.uniform() > 0.5:\n",
    "    degrees = -degrees\n",
    "  return pil_img.rotate(degrees, resample=Image.BILINEAR)\n",
    "\n",
    "\n",
    "def solarize(pil_img, level):\n",
    "  level = int_parameter(sample_level(level), 256)\n",
    "  return ImageOps.solarize(pil_img, 256 - level)\n",
    "\n",
    "\n",
    "def shear_x(pil_img, level):\n",
    "  level = float_parameter(sample_level(level), 0.3)\n",
    "  if np.random.uniform() > 0.5:\n",
    "    level = -level\n",
    "  return pil_img.transform((IMAGE_SIZE, IMAGE_SIZE),\n",
    "                           Image.AFFINE, (1, level, 0, 0, 1, 0),\n",
    "                           resample=Image.BILINEAR)\n",
    "\n",
    "\n",
    "def shear_y(pil_img, level):\n",
    "  level = float_parameter(sample_level(level), 0.3)\n",
    "  if np.random.uniform() > 0.5:\n",
    "    level = -level\n",
    "  return pil_img.transform((IMAGE_SIZE, IMAGE_SIZE),\n",
    "                           Image.AFFINE, (1, 0, 0, level, 1, 0),\n",
    "                           resample=Image.BILINEAR)\n",
    "\n",
    "\n",
    "def translate_x(pil_img, level):\n",
    "  level = int_parameter(sample_level(level), IMAGE_SIZE / 3)\n",
    "  if np.random.random() > 0.5:\n",
    "    level = -level\n",
    "  return pil_img.transform((IMAGE_SIZE, IMAGE_SIZE),\n",
    "                           Image.AFFINE, (1, 0, level, 0, 1, 0),\n",
    "                           resample=Image.BILINEAR)\n",
    "\n",
    "\n",
    "def translate_y(pil_img, level):\n",
    "  level = int_parameter(sample_level(level), IMAGE_SIZE / 3)\n",
    "  if np.random.random() > 0.5:\n",
    "    level = -level\n",
    "  return pil_img.transform((IMAGE_SIZE, IMAGE_SIZE),\n",
    "                           Image.AFFINE, (1, 0, 0, 0, 1, level),\n",
    "                           resample=Image.BILINEAR)\n",
    "\n",
    "augmentations = [\n",
    "    autocontrast, equalize, posterize, shear_x, shear_y,\n",
    "    translate_x, translate_y\n",
    "]"
   ]
  },
  {
   "cell_type": "code",
   "execution_count": 10,
   "metadata": {},
   "outputs": [],
   "source": [
    "### Credit: Hendrycks, Zou, et al. (2022)\n",
    "### MIXINGS ###\n",
    "def get_ab(beta):\n",
    "  if np.random.random() < 0.5:\n",
    "    a = np.float32(np.random.beta(beta, 1))\n",
    "    b = np.float32(np.random.beta(1, beta))\n",
    "  else:\n",
    "    a = 1 + np.float32(np.random.beta(1, beta))\n",
    "    b = -np.float32(np.random.beta(1, beta))\n",
    "  return a, b\n",
    "\n",
    "def add(img1, img2, beta):\n",
    "  a,b = get_ab(beta)\n",
    "  img1, img2 = img1 * 2 - 1, img2 * 2 - 1\n",
    "  out = a * img1 + b * img2\n",
    "  return (out + 1) / 2\n",
    "\n",
    "def multiply(img1, img2, beta):\n",
    "    a, b = get_ab(beta)\n",
    "    img1, img2 = img1 * 2, img2 * 2\n",
    "    img1 = torch.clip(img1, 0, 1)\n",
    "    img2 = torch.clip(img2, 0, 1)\n",
    "    out = (img1 ** a) * (img2.clip(1e-37) ** b)\n",
    "    return out / 2\n",
    "\n",
    "mixings = [add, multiply]\n"
   ]
  },
  {
   "cell_type": "code",
   "execution_count": 11,
   "metadata": {},
   "outputs": [],
   "source": [
    "pil_transform = transforms.ToPILImage()\n",
    "to_tensor = transforms.ToTensor()\n",
    "\n",
    "def pixmix(orig, k=4, beta=3, level=30):\n",
    "    ### Code based of off Hendrycks, Zou, et al. (2022)\n",
    "    \n",
    "    augment_input = np.random.choice(augmentations) \n",
    "    \n",
    "    #50/50 chance of getting augmented  \n",
    "    if np.random.random() < 0.5: \n",
    "        orig = to_tensor(augment_input(pil_transform(orig), level))\n",
    "  \n",
    "    for _ in range(1, np.random.randint(2, k+1)):\n",
    "        #50/50 chance of getting augmented\n",
    "        if np.random.random() < 0.5:\n",
    "            augment_input = np.random.choice(augmentations)\n",
    "            aug_image_copy = to_tensor(augment_input(pil_transform(orig), level))\n",
    "           \n",
    "        else:\n",
    "            aug_image_copy = get_random_mixer()\n",
    "            \n",
    "        mixed_op = np.random.choice(mixings)          #50/50 chance either multiplicative or additive mixing\n",
    "        orig = mixed_op(orig, aug_image_copy, beta) #mixed according to beta distribution\n",
    "        orig = torch.clip(orig, 0, 1)               #making sure all values are either 0 or 1\n",
    "\n",
    "    return orig"
   ]
  },
  {
   "cell_type": "markdown",
   "metadata": {
    "id": "Iu56FwY-LBc9"
   },
   "source": [
    "## Primal Network"
   ]
  },
  {
   "cell_type": "markdown",
   "metadata": {
    "id": "zAc2QEcALygQ"
   },
   "source": [
    "Here, we define the neural classifier we will be using. Note that the network comprises three layers. The first layer has dimension $28^2$ since this is the size of the input image. (The original inputs are square images, but we flatten them into a $28^2\\times 1$ vector in order to feed them into the network.) The output layer has dimension $10$, since there are ten possible output classes (the digits 0-9). The hidden layer has dimension $256$. (There isn't as much science behind choosing the dimensionality of input layers; we choose $256$ because it is a round number, and is hopefully enough to the neccesary encode information about the input image.)"
   ]
  },
  {
   "cell_type": "code",
   "execution_count": 20,
   "metadata": {
    "id": "6-joaa2DLygU"
   },
   "outputs": [],
   "source": [
    "class Net(nn.Module):\n",
    "  def __init__(self):\n",
    "    super().__init__()\n",
    "    \n",
    "    self.fc1 = nn.Linear(in_features=28*28, out_features = 256)\n",
    "    self.fc2 = nn.Linear(in_features=256, out_features = 10)\n",
    "    self.layers = [self.fc1, self.fc2]\n",
    "\n",
    "  # define forward function\n",
    "  def forward(self, t):\n",
    "    '''\n",
    "    On input T, performs a affine transformation, then\n",
    "    a ReLU, then another affine transformation.\n",
    "    '''\n",
    "    self.z = []\n",
    "    t = t.reshape(-1, 28*28)\n",
    "    t = self.fc1(t)\n",
    "    self.z.append(t)\n",
    "    t = F.relu(t)\n",
    "    t = self.fc2(t)\n",
    "    self.z.append(t)\n",
    "    return t"
   ]
  },
  {
   "cell_type": "markdown",
   "metadata": {
    "id": "YTue7LMGLygd"
   },
   "source": [
    "Here is the training code, which uses Adam, a variant of gradient descent. The actual optimization machinery is all abstracted away behind the torch library; all the work is being done by the `optimizer.step()` call."
   ]
  },
  {
   "cell_type": "code",
   "execution_count": 21,
   "metadata": {
    "id": "4zdMiOXDLygf"
   },
   "outputs": [],
   "source": [
    "def train(net, criterion, trainloader, lr=0.001, pixmix_include=False):\n",
    "    '''\n",
    "    Uses the Adam optimization algorithm to train \n",
    "    the classifier NET on training data from TRAINLOADER,\n",
    "    on loss function CRITERION, with learning rate LR.\n",
    "    \n",
    "    Note that we half the learning rate each epoch.\n",
    "    '''\n",
    "    optimizer = optim.Adam(net.parameters(), lr=lr)\n",
    "    \n",
    "    for epoch in range(3):\n",
    "        for i, data in enumerate(trainloader, 0):\n",
    "            for param_group in optimizer.param_groups:\n",
    "                param_group['lr'] = lr * 0.5 ** (epoch)\n",
    "            \n",
    "            if pixmix_include:\n",
    "                for j in range(4):\n",
    "                    data[0][j] = pixmix(data[0][j].squeeze(0))\n",
    "       \n",
    "            inputs, labels = data[0].to(device), data[1].to(device)\n",
    "            optimizer.zero_grad()\n",
    "            outputs = net(inputs)\n",
    "            loss = criterion(outputs, labels)\n",
    "            loss.backward()\n",
    "            optimizer.step()\n",
    "            if i % 500 == 0:\n",
    "                print('Epoch', epoch, 'Iter:', i, 'Loss', loss.item())"
   ]
  },
  {
   "cell_type": "code",
   "execution_count": 98,
   "metadata": {},
   "outputs": [
    {
     "name": "stdout",
     "output_type": "stream",
     "text": [
      "Epoch 0 Iter: 0 Loss 2.292419195175171\n",
      "Epoch 0 Iter: 500 Loss 1.4503562450408936\n",
      "Epoch 0 Iter: 1000 Loss 1.3641966581344604\n",
      "Epoch 0 Iter: 1500 Loss 0.12120817601680756\n",
      "Epoch 0 Iter: 2000 Loss 0.8255091905593872\n",
      "Epoch 0 Iter: 2500 Loss 1.358978033065796\n",
      "Epoch 0 Iter: 3000 Loss 0.30382421612739563\n",
      "Epoch 0 Iter: 3500 Loss 1.834344744682312\n",
      "Epoch 0 Iter: 4000 Loss 0.9534880518913269\n",
      "Epoch 0 Iter: 4500 Loss 1.309092402458191\n",
      "Epoch 0 Iter: 5000 Loss 1.4110782146453857\n",
      "Epoch 0 Iter: 5500 Loss 0.5855514407157898\n",
      "Epoch 0 Iter: 6000 Loss 0.5719462037086487\n",
      "Epoch 0 Iter: 6500 Loss 2.4939351081848145\n",
      "Epoch 0 Iter: 7000 Loss 0.9179906249046326\n",
      "Epoch 0 Iter: 7500 Loss 1.1456196308135986\n",
      "Epoch 0 Iter: 8000 Loss 2.965188503265381\n",
      "Epoch 0 Iter: 8500 Loss 1.5813380479812622\n",
      "Epoch 0 Iter: 9000 Loss 1.0177552700042725\n",
      "Epoch 0 Iter: 9500 Loss 0.5175808072090149\n",
      "Epoch 0 Iter: 10000 Loss 0.11697157472372055\n",
      "Epoch 0 Iter: 10500 Loss 1.2233027219772339\n",
      "Epoch 0 Iter: 11000 Loss 1.2238913774490356\n",
      "Epoch 0 Iter: 11500 Loss 0.7398660778999329\n",
      "Epoch 0 Iter: 12000 Loss 0.44153183698654175\n",
      "Epoch 0 Iter: 12500 Loss 1.8765287399291992\n",
      "Epoch 0 Iter: 13000 Loss 2.563716173171997\n",
      "Epoch 0 Iter: 13500 Loss 0.6211537718772888\n",
      "Epoch 0 Iter: 14000 Loss 1.9960508346557617\n",
      "Epoch 0 Iter: 14500 Loss 1.4464442729949951\n",
      "Epoch 1 Iter: 0 Loss 1.2897777557373047\n",
      "Epoch 1 Iter: 500 Loss 0.6198326349258423\n",
      "Epoch 1 Iter: 1000 Loss 1.419407606124878\n",
      "Epoch 1 Iter: 1500 Loss 0.15655459463596344\n",
      "Epoch 1 Iter: 2000 Loss 0.9630166888237\n",
      "Epoch 1 Iter: 2500 Loss 0.6585615873336792\n",
      "Epoch 1 Iter: 3000 Loss 1.384562611579895\n",
      "Epoch 1 Iter: 3500 Loss 1.2925105094909668\n",
      "Epoch 1 Iter: 4000 Loss 0.8753447532653809\n",
      "Epoch 1 Iter: 4500 Loss 0.25925034284591675\n",
      "Epoch 1 Iter: 5000 Loss 0.5088592767715454\n",
      "Epoch 1 Iter: 5500 Loss 0.46105003356933594\n",
      "Epoch 1 Iter: 6000 Loss 0.612666666507721\n",
      "Epoch 1 Iter: 6500 Loss 0.3178742229938507\n",
      "Epoch 1 Iter: 7000 Loss 1.6937315464019775\n",
      "Epoch 1 Iter: 7500 Loss 1.3406858444213867\n",
      "Epoch 1 Iter: 8000 Loss 0.94346684217453\n",
      "Epoch 1 Iter: 8500 Loss 0.5759178400039673\n",
      "Epoch 1 Iter: 9000 Loss 1.9609477519989014\n",
      "Epoch 1 Iter: 9500 Loss 0.33504796028137207\n",
      "Epoch 1 Iter: 10000 Loss 0.6728562712669373\n",
      "Epoch 1 Iter: 10500 Loss 1.2186373472213745\n",
      "Epoch 1 Iter: 11000 Loss 0.8346104621887207\n",
      "Epoch 1 Iter: 11500 Loss 0.5713094472885132\n",
      "Epoch 1 Iter: 12000 Loss 0.35117924213409424\n",
      "Epoch 1 Iter: 12500 Loss 1.7127323150634766\n",
      "Epoch 1 Iter: 13000 Loss 0.9673306941986084\n",
      "Epoch 1 Iter: 13500 Loss 0.9042790532112122\n",
      "Epoch 1 Iter: 14000 Loss 1.1990318298339844\n",
      "Epoch 1 Iter: 14500 Loss 0.5706853270530701\n",
      "Epoch 2 Iter: 0 Loss 1.8807101249694824\n",
      "Epoch 2 Iter: 500 Loss 1.563544511795044\n",
      "Epoch 2 Iter: 1000 Loss 0.14309252798557281\n",
      "Epoch 2 Iter: 1500 Loss 0.17548051476478577\n",
      "Epoch 2 Iter: 2000 Loss 2.4934041500091553\n",
      "Epoch 2 Iter: 2500 Loss 0.4793632924556732\n",
      "Epoch 2 Iter: 3000 Loss 0.9348137974739075\n",
      "Epoch 2 Iter: 3500 Loss 1.333423376083374\n",
      "Epoch 2 Iter: 4000 Loss 1.22713041305542\n",
      "Epoch 2 Iter: 4500 Loss 1.4013372659683228\n",
      "Epoch 2 Iter: 5000 Loss 0.5764131546020508\n",
      "Epoch 2 Iter: 5500 Loss 1.6688734292984009\n",
      "Epoch 2 Iter: 6000 Loss 1.6027350425720215\n",
      "Epoch 2 Iter: 6500 Loss 1.2794239521026611\n",
      "Epoch 2 Iter: 7000 Loss 0.7337768077850342\n",
      "Epoch 2 Iter: 7500 Loss 1.1496621370315552\n",
      "Epoch 2 Iter: 8000 Loss 1.5949885845184326\n",
      "Epoch 2 Iter: 8500 Loss 0.831465482711792\n",
      "Epoch 2 Iter: 9000 Loss 0.07570987194776535\n",
      "Epoch 2 Iter: 9500 Loss 2.2918384075164795\n",
      "Epoch 2 Iter: 10000 Loss 0.006856346502900124\n",
      "Epoch 2 Iter: 10500 Loss 1.211259365081787\n",
      "Epoch 2 Iter: 11000 Loss 0.6768125295639038\n",
      "Epoch 2 Iter: 11500 Loss 1.0799435377120972\n",
      "Epoch 2 Iter: 12000 Loss 0.5831758379936218\n",
      "Epoch 2 Iter: 12500 Loss 0.6617969870567322\n",
      "Epoch 2 Iter: 13000 Loss 0.5648874640464783\n",
      "Epoch 2 Iter: 13500 Loss 1.6482445001602173\n",
      "Epoch 2 Iter: 14000 Loss 0.6875617504119873\n",
      "Epoch 2 Iter: 14500 Loss 0.727827787399292\n"
     ]
    }
   ],
   "source": [
    "pixmix_net = Net()\n",
    "pixmix_net.to(device)\n",
    "\n",
    "criterion = nn.CrossEntropyLoss()\n",
    "\n",
    "train(pixmix_net, criterion, trainloader, 0.001, pixmix_include=True)"
   ]
  },
  {
   "cell_type": "markdown",
   "metadata": {
    "id": "zmx06HSLLyhh"
   },
   "source": [
    "We can now train the net on the training data, using cross entropy loss."
   ]
  },
  {
   "cell_type": "code",
   "execution_count": 23,
   "metadata": {
    "colab": {
     "base_uri": "https://localhost:8080/"
    },
    "id": "W8pmvL6tLyhj",
    "outputId": "399d49d8-235c-4285-eaab-510175be41cb"
   },
   "outputs": [
    {
     "name": "stdout",
     "output_type": "stream",
     "text": [
      "Epoch 0 Iter: 0 Loss 2.076387643814087\n",
      "Epoch 0 Iter: 500 Loss 0.09691828489303589\n",
      "Epoch 0 Iter: 1000 Loss 0.3168752193450928\n",
      "Epoch 0 Iter: 1500 Loss 0.3807903528213501\n",
      "Epoch 0 Iter: 2000 Loss 0.5989309549331665\n",
      "Epoch 0 Iter: 2500 Loss 0.16271135210990906\n",
      "Epoch 0 Iter: 3000 Loss 0.11950799822807312\n",
      "Epoch 0 Iter: 3500 Loss 0.40232014656066895\n",
      "Epoch 0 Iter: 4000 Loss 0.3367736339569092\n",
      "Epoch 0 Iter: 4500 Loss 0.06069811061024666\n",
      "Epoch 0 Iter: 5000 Loss 0.06280850619077682\n",
      "Epoch 0 Iter: 5500 Loss 0.07447119057178497\n",
      "Epoch 0 Iter: 6000 Loss 1.1219135522842407\n",
      "Epoch 0 Iter: 6500 Loss 0.005711544305086136\n",
      "Epoch 0 Iter: 7000 Loss 0.06395470350980759\n",
      "Epoch 0 Iter: 7500 Loss 1.4254060983657837\n",
      "Epoch 0 Iter: 8000 Loss 0.47384870052337646\n",
      "Epoch 0 Iter: 8500 Loss 0.0019471724517643452\n",
      "Epoch 0 Iter: 9000 Loss 0.04099069908261299\n",
      "Epoch 0 Iter: 9500 Loss 0.05247088521718979\n",
      "Epoch 0 Iter: 10000 Loss 1.5421555042266846\n",
      "Epoch 0 Iter: 10500 Loss 0.05581703782081604\n",
      "Epoch 0 Iter: 11000 Loss 0.009468953125178814\n",
      "Epoch 0 Iter: 11500 Loss 0.16273830831050873\n",
      "Epoch 0 Iter: 12000 Loss 0.27006083726882935\n",
      "Epoch 0 Iter: 12500 Loss 0.0010536827612668276\n",
      "Epoch 0 Iter: 13000 Loss 0.005785963032394648\n",
      "Epoch 0 Iter: 13500 Loss 0.017429057508707047\n",
      "Epoch 0 Iter: 14000 Loss 0.5404491424560547\n",
      "Epoch 0 Iter: 14500 Loss 0.240256205201149\n",
      "Epoch 1 Iter: 0 Loss 0.8480587005615234\n",
      "Epoch 1 Iter: 500 Loss 0.46585866808891296\n",
      "Epoch 1 Iter: 1000 Loss 0.017341937869787216\n",
      "Epoch 1 Iter: 1500 Loss 0.0015563274500891566\n",
      "Epoch 1 Iter: 2000 Loss 0.03587787598371506\n",
      "Epoch 1 Iter: 2500 Loss 0.004808332305401564\n",
      "Epoch 1 Iter: 3000 Loss 0.015560613945126534\n",
      "Epoch 1 Iter: 3500 Loss 0.013798551633954048\n",
      "Epoch 1 Iter: 4000 Loss 0.034548114985227585\n",
      "Epoch 1 Iter: 4500 Loss 0.23681439459323883\n",
      "Epoch 1 Iter: 5000 Loss 0.01378924585878849\n",
      "Epoch 1 Iter: 5500 Loss 0.00430194940418005\n",
      "Epoch 1 Iter: 6000 Loss 0.002222081646323204\n",
      "Epoch 1 Iter: 6500 Loss 0.0010720881400629878\n",
      "Epoch 1 Iter: 7000 Loss 0.0010891978163272142\n",
      "Epoch 1 Iter: 7500 Loss 0.32529646158218384\n",
      "Epoch 1 Iter: 8000 Loss 0.018818730488419533\n",
      "Epoch 1 Iter: 8500 Loss 0.15327483415603638\n",
      "Epoch 1 Iter: 9000 Loss 0.0019761058501899242\n",
      "Epoch 1 Iter: 9500 Loss 0.01844664290547371\n",
      "Epoch 1 Iter: 10000 Loss 0.15673190355300903\n",
      "Epoch 1 Iter: 10500 Loss 0.03665860742330551\n",
      "Epoch 1 Iter: 11000 Loss 0.010436853393912315\n",
      "Epoch 1 Iter: 11500 Loss 0.017297662794589996\n",
      "Epoch 1 Iter: 12000 Loss 0.4149797558784485\n",
      "Epoch 1 Iter: 12500 Loss 0.0008992527727968991\n",
      "Epoch 1 Iter: 13000 Loss 0.01723582111299038\n",
      "Epoch 1 Iter: 13500 Loss 0.0379679799079895\n",
      "Epoch 1 Iter: 14000 Loss 0.03727119788527489\n",
      "Epoch 1 Iter: 14500 Loss 0.00033817358780652285\n",
      "Epoch 2 Iter: 0 Loss 0.7472802400588989\n",
      "Epoch 2 Iter: 500 Loss 0.024654662236571312\n",
      "Epoch 2 Iter: 1000 Loss 0.0019393768161535263\n",
      "Epoch 2 Iter: 1500 Loss 0.11358234286308289\n",
      "Epoch 2 Iter: 2000 Loss 0.004039779305458069\n",
      "Epoch 2 Iter: 2500 Loss 0.0672084391117096\n",
      "Epoch 2 Iter: 3000 Loss 0.002570422599092126\n",
      "Epoch 2 Iter: 3500 Loss 8.140728459693491e-05\n",
      "Epoch 2 Iter: 4000 Loss 0.020596500486135483\n",
      "Epoch 2 Iter: 4500 Loss 1.522178292274475\n",
      "Epoch 2 Iter: 5000 Loss 1.12949655886041e-05\n",
      "Epoch 2 Iter: 5500 Loss 0.0005679142195731401\n",
      "Epoch 2 Iter: 6000 Loss 0.5407028198242188\n",
      "Epoch 2 Iter: 6500 Loss 2.2849974632263184\n",
      "Epoch 2 Iter: 7000 Loss 0.011270740069448948\n",
      "Epoch 2 Iter: 7500 Loss 0.03778151422739029\n",
      "Epoch 2 Iter: 8000 Loss 0.45995157957077026\n",
      "Epoch 2 Iter: 8500 Loss 0.002913121599704027\n",
      "Epoch 2 Iter: 9000 Loss 0.012182331643998623\n",
      "Epoch 2 Iter: 9500 Loss 0.5323478579521179\n",
      "Epoch 2 Iter: 10000 Loss 0.0842856913805008\n",
      "Epoch 2 Iter: 10500 Loss 0.0025724044535309076\n",
      "Epoch 2 Iter: 11000 Loss 0.004994124639779329\n",
      "Epoch 2 Iter: 11500 Loss 0.002226148033514619\n",
      "Epoch 2 Iter: 12000 Loss 0.5724075436592102\n",
      "Epoch 2 Iter: 12500 Loss 0.0035085538402199745\n",
      "Epoch 2 Iter: 13000 Loss 0.08933096379041672\n",
      "Epoch 2 Iter: 13500 Loss 0.024167366325855255\n",
      "Epoch 2 Iter: 14000 Loss 0.016703922301530838\n",
      "Epoch 2 Iter: 14500 Loss 0.020778967067599297\n"
     ]
    }
   ],
   "source": [
    "net = Net()\n",
    "net.to(device)\n",
    "train(net, criterion, trainloader, 0.001)"
   ]
  },
  {
   "cell_type": "markdown",
   "metadata": {
    "id": "12zEbgnwLBdg"
   },
   "source": [
    "Let's load a sample image from the test dataset, and see what the classifier makes of it. Make sure to visualize the image using `imshow(x[0,0])`. Also, note that the line `test_iter.next()` pulls a new input image from the test set each time you run it; try running the next code block a few times to get a sense of what the MNIST dataset looks like, and how the classifier performs on it."
   ]
  },
  {
   "cell_type": "code",
   "execution_count": 29,
   "metadata": {},
   "outputs": [],
   "source": [
    "test_iter = iter(testloader)"
   ]
  },
  {
   "cell_type": "code",
   "execution_count": 182,
   "metadata": {},
   "outputs": [
    {
     "data": {
      "image/png": "[encoded data removed]",
      "text/plain": [
       "<Figure size 640x480 with 1 Axes>"
      ]
     },
     "metadata": {},
     "output_type": "display_data"
    },
    {
     "name": "stdout",
     "output_type": "stream",
     "text": [
      "Classifier output: tensor([[-15.9762, -18.4431,  -8.5127,  -5.2935,   1.6888,  -6.8093, -17.0520,\n",
      "          -3.5776,  -5.3791,   8.5815]])\n",
      "Classifier prediction: 9\n"
     ]
    }
   ],
   "source": [
    "x, labels = test_iter.next()\n",
    "x, labels = next(test_iter)\n",
    "x = x[0].unsqueeze(0)\n",
    "labels = labels[0].unsqueeze(0)\n",
    "imshow(x[0,0])\n",
    "\n",
    "x = x.to(device)\n",
    "labels = labels.to(device)\n",
    "\n",
    "out = net(x).data\n",
    "print('Classifier output:', out)\n",
    "print('Classifier prediction:', torch.argmax(out).item())"
   ]
  },
  {
   "cell_type": "markdown",
   "metadata": {
    "id": "b6nekayzLygn"
   },
   "source": [
    "We can also measure the classifier's accuracy on the full test dataset. This function takes in a classifier we have trained and the loader for the test set, and outputs the classifier's accuracy. The accuracy is simply\n",
    "$$ \\dfrac{\\text{# correct}}{\\text{# total}}.$$"
   ]
  },
  {
   "cell_type": "code",
   "execution_count": 32,
   "metadata": {
    "id": "Lk4pq6hiLygr"
   },
   "outputs": [],
   "source": [
    "def accuracy(net, testloader):\n",
    "    '''\n",
    "    Returns the accuracy of classifier NET\n",
    "    on test data from TESTLOADER.\n",
    "    '''\n",
    "    correct = 0\n",
    "    total = 0\n",
    "    with torch.no_grad():\n",
    "        for data in testloader:\n",
    "            images, labels = data[0].to(device), data[1].to(device)\n",
    "            outputs = net(images)\n",
    "            _, predicted = torch.max(outputs.data, 1)\n",
    "            total += labels.size(0)\n",
    "            correct += (predicted == labels).sum().item()\n",
    "\n",
    "    return correct / total"
   ]
  },
  {
   "cell_type": "code",
   "execution_count": 33,
   "metadata": {
    "colab": {
     "base_uri": "https://localhost:8080/"
    },
    "id": "kXpxjHkqLBd8",
    "outputId": "b3beb6a0-c1e1-4891-b150-34e33881ad69",
    "scrolled": true
   },
   "outputs": [
    {
     "name": "stdout",
     "output_type": "stream",
     "text": [
      "Classifier accuracy on original test dataset: 0.9682\n"
     ]
    }
   ],
   "source": [
    "print('Classifier accuracy on original test dataset:', accuracy(net, testloader))"
   ]
  },
  {
   "cell_type": "markdown",
   "metadata": {
    "id": "rrvBEzmZLBeD"
   },
   "source": [
    "## Fast Gradient Sign Method"
   ]
  },
  {
   "cell_type": "markdown",
   "metadata": {
    "id": "p5ZlWjqILygz"
   },
   "source": [
    "Here, we implement the Fast Gradient Sign Method, which takes in a batch of input images, their labels, a trained classifier, and the epsilon radius within which the perturbation should lie. This function should output the input image perturbed in the direction of the sign of the gradient with respect to the classifier's loss.\n",
    "\n",
    "(Note that the output is not guaranteed to lie in the valid range for images, since here pixel values must be in $[-1,1]$. You should use `torch.clamp` to fix the FGSM output to lie in the correct range.)"
   ]
  },
  {
   "cell_type": "code",
   "execution_count": 34,
   "metadata": {
    "id": "CaSK1tjSLyg2"
   },
   "outputs": [],
   "source": [
    "def FGSM(x, labels, net, eps):\n",
    "    '''\n",
    "    Given an input image X and its corresponding labels\n",
    "    LABELS, as well as a classifier NET, returns X\n",
    "    perturbed by EPS using the fast gradient sign method.\n",
    "    '''\n",
    "    net.zero_grad()    # Zero out any gradients from before\n",
    "    x.requires_grad=True    # Keep track of gradients\n",
    "    out = net(x)    # Output of classifier\n",
    "    criterion = nn.CrossEntropyLoss()\n",
    "    loss = criterion(out, labels)   # Classifier's loss\n",
    "    loss.backward()\n",
    "    grads = x.grad.data    # Gradient of loss w/r/t input\n",
    "    \n",
    "    #print(torch.clamp(out, -1, 1).size())\n",
    "    #print(torch.mul(torch.sign(grads), eps).size())\n",
    "    \n",
    "    return torch.clamp(x + torch.sign(grads) * eps, -1, 1)# TODO: Your code here!"
   ]
  },
  {
   "cell_type": "markdown",
   "metadata": {
    "id": "AB8K0vMsLBeU"
   },
   "source": [
    "Let's see how well the classifier does when the input is adversarially perturbed using FGSM. Try this for $\\varepsilon\\in\\{0.05, 0.1,0.2,0.3, 0.4\\}$, and again remember to visualize the inputs with `imshow`."
   ]
  },
  {
   "cell_type": "code",
   "execution_count": 35,
   "metadata": {
    "id": "1JZWbrtTpQ9n"
   },
   "outputs": [],
   "source": [
    "eps = 0.05 # TODO: Try eps = 0.05, 0.1, 0.2, 0.3, 0.4"
   ]
  },
  {
   "cell_type": "code",
   "execution_count": 183,
   "metadata": {
    "colab": {
     "base_uri": "https://localhost:8080/",
     "height": 317
    },
    "id": "dbS2KvG6Lyh6",
    "outputId": "a96d4ad9-cbf5-40d7-b802-c23c36d87b61"
   },
   "outputs": [
    {
     "data": {
      "image/png": "[encoded data removed]",
      "text/plain": [
       "<Figure size 640x480 with 1 Axes>"
      ]
     },
     "metadata": {},
     "output_type": "display_data"
    },
    {
     "name": "stdout",
     "output_type": "stream",
     "text": [
      "Classifier output: tensor([[-14.0217, -15.2018,  -4.7494,  -6.4919,   5.4696,  -5.5263,  -8.1230,\n",
      "          -6.0675,  -5.7762,   2.6270]])\n",
      "Classifier prediction: 4\n"
     ]
    }
   ],
   "source": [
    "# We are using the same sample input x as before.\n",
    "x.requires_grad = True\n",
    "x_prime = FGSM(x, labels, net, eps)\n",
    "imshow(x_prime[0,0].cpu())\n",
    "out = net(x_prime)\n",
    "\n",
    "print('Classifier output:', out.data)\n",
    "print('Classifier prediction:', torch.argmax(out).item())"
   ]
  },
  {
   "cell_type": "markdown",
   "metadata": {
    "id": "64qakoWaLBec"
   },
   "source": [
    "We should evaluate the classifier's performance on FGSM-perturbed data by the same metric that we will later use in the primal adversarial problem. That is, for the classifier's output vector $\\vec{\\hat{z}}_3$, we want to compute\n",
    "$$\n",
    "\\vec{c}_j^\\top \\vec{\\hat{z}}_3\n",
    "$$\n",
    "where\n",
    "$$\\vec{c}_j={\\vec{y}_{\\text{true}}}-\\vec{e}_{j}$$\n",
    "for each $j\\in[10]$.\n",
    "\n",
    "Recall that \n",
    "$$\\vec{c}_j^\\top \\vec{\\hat{z}}_3=\\vec{\\hat{z}}_{3i_{\\text{true}}}-\\vec{\\hat{z}}_{3j},$$\n",
    "i.e. $\\vec{c}_j^\\top \\vec{\\hat{z}}_3$ is the difference between the classifier's confidence on the true class and the $j$th (incorrect) class. If $\\vec{c}_j^\\top \\vec{\\hat{z}}_3$ is positive for all incorrect $j$, then the classifier was not fooled by the adversarial perturbation."
   ]
  },
  {
   "cell_type": "code",
   "execution_count": 204,
   "metadata": {
    "colab": {
     "base_uri": "https://localhost:8080/"
    },
    "id": "qpFjSe3ULBee",
    "outputId": "946a0272-1cf3-4f72-fdf6-504c511ea2b6"
   },
   "outputs": [
    {
     "name": "stdout",
     "output_type": "stream",
     "text": [
      "0 19.491268157958984\n",
      "1 20.67140769958496\n",
      "2 10.219018936157227\n",
      "3 11.961532592773438\n",
      "5 10.995853424072266\n",
      "6 13.592636108398438\n",
      "7 11.537052154541016\n",
      "8 11.245810508728027\n",
      "9 2.8426127433776855\n"
     ]
    }
   ],
   "source": [
    "for i in range(10):\n",
    "    c = torch.zeros(10, 1).to(device)\n",
    "    if i != labels:\n",
    "        c[i] = -1\n",
    "        c[labels] = 1\n",
    "        print(i, (out @ c).item())"
   ]
  },
  {
   "cell_type": "markdown",
   "metadata": {
    "id": "q4JTyFqQLBeo"
   },
   "source": [
    "**Q: What do the $\\vec{c}_j^\\top \\vec{\\hat{z}}_3$ scores tell you about the robustness of the classifier to different values of epsilon? For a given input digit, which output categories have higher/lower scores? Why?**\n",
    "\n",
    "<span style=\"color:blue\">A: The scores are all positive at an epsilon value of 0.05, which tells me that the robustness of the classifier is good as the classifier was not fooled by the adversarial perturbation. As epsilon increased, the classifier was more and more fooled by adversarial perturbation as more scores became negative and the classifier visually misidentified numbers.</span>\n",
    "    \n",
    "<span style=\"color:blue\"> In general, digits more similar to the true label (e.g. 9 if the label is 4) will have lower scores, since it is easier to \"fool\" the classifier into thinking one is the other. Conversely, less similar digits will tend to have higher scores (e.g. 1 if the label is 4).</span>"
   ]
  },
  {
   "cell_type": "markdown",
   "metadata": {
    "id": "LaGNmioNLyg_"
   },
   "source": [
    "Now that FGSM is defined, we can also measure a classifier's accuracy on a dataset where each input has been adversarially perturbed. That is, for each point in the original test dataset, we first perturb it using FGSM before feeding it to the classifier."
   ]
  },
  {
   "cell_type": "code",
   "execution_count": 40,
   "metadata": {
    "id": "ik9xXp3hLyhB"
   },
   "outputs": [],
   "source": [
    "def accuracy_on_FGSM(net, testloader, eps):\n",
    "    '''\n",
    "    Returns the accuracy of classifier NET on test\n",
    "    data from TESTLOADER that has been perturbed by\n",
    "    EPS using FSGM.\n",
    "    '''\n",
    "    correct = 0\n",
    "    total = 0\n",
    "    for data in testloader:\n",
    "        x, labels = data[0].to(device), data[1].to(device)\n",
    "        x_prime = FGSM(x, labels, net, eps)\n",
    "        outputs = net(x_prime)\n",
    "        _, predicted = torch.max(outputs.data, 1)\n",
    "        total += labels.size(0)\n",
    "        correct += (predicted == labels).sum().item()\n",
    "\n",
    "    return correct / total"
   ]
  },
  {
   "cell_type": "code",
   "execution_count": 202,
   "metadata": {
    "colab": {
     "base_uri": "https://localhost:8080/"
    },
    "id": "PDD_z76ALBew",
    "outputId": "866a9716-0941-47fa-eab0-94c21cbae8e5"
   },
   "outputs": [
    {
     "name": "stdout",
     "output_type": "stream",
     "text": [
      "Classifier accuracy on test dataset perturbed with FGSM: 0.9234\n"
     ]
    }
   ],
   "source": [
    "print('Classifier accuracy on test dataset perturbed with FGSM:', accuracy_on_FGSM(net, testloader, eps))"
   ]
  },
  {
   "cell_type": "markdown",
   "metadata": {
    "id": "Dj-7r-oqLBe1"
   },
   "source": [
    "**Q: How does the classifier accuracy on data perturbed by FGSM compare to that on the original test dataset? How does this vary with epsilon?**\n",
    "\n",
    "<span style=\"color:blue\"> A: With an epsilon of 0.05, the FGSM perturbed data gets a slightly lower accuracy (roughly 0.97 vs 0.92). When an epsilon of 0.5, the accuracy plummets down to around zero. Therefore, a higher epsilon decreases the accuracy.</span>"
   ]
  },
  {
   "cell_type": "markdown",
   "metadata": {
    "id": "jDwEDxf9LBe7"
   },
   "source": [
    "## Dual Network"
   ]
  },
  {
   "cell_type": "markdown",
   "metadata": {
    "id": "AkVG-qEuLyhK"
   },
   "source": [
    "Here, we will implement the dual network. First, we write the function to compute upper and lower bounds for the dual network. This function should take an input image, the trained classifier, and an epsilon value, and return the tuple\n",
    "$$(\\vec{l},\\vec{u},S,S^-,S^+)$$\n",
    "where $\\vec{u}$ and $\\vec{l}$ are the upper and lower bounds, respectively, for the input to the ReLU layer, and $S^-,S^+,S$ are sets defined by\n",
    "\n",
    "$$\n",
    "\\begin{aligned}\n",
    "&S:=\\{j\\in [n_2]\\mid l_{j}\\leq 0\\leq u_{j}\\}\\\\\n",
    "&S^{-}:=\\{j\\in [n_2]\\mid l_{j}\\leq u_{j}\\leq 0\\}\\\\\n",
    "&S^{+}:=\\{j\\in [n_2]\\mid 0\\leq l_{j}\\leq u_{j}\\}.\n",
    "\\end{aligned}\n",
    "$$\n",
    "\n",
    "See Section 6 of the PDF for more details."
   ]
  },
  {
   "cell_type": "code",
   "execution_count": 122,
   "metadata": {
    "id": "_0QHBHTHLyhO"
   },
   "outputs": [],
   "source": [
    "def dual_bounds(x, net, eps):\n",
    "    '''\n",
    "    Given a classifier NET, an input image X,\n",
    "    and the epsilon parameter EPS, returns the lower\n",
    "    and upper bounds L and U respectively, as well as\n",
    "    the corresponding sets S, S_MIN, S_PLUS.\n",
    "    '''\n",
    "    x = x[0].reshape(-1, 1)    # Reshape input to more convenient dimensions\n",
    "    W = [layer.weight for layer in net.layers]    # Array of network weights (W matrices)\n",
    "    b = [layer.bias.reshape(-1, 1) for layer in net.layers]    # Array of network biases (b vectors)\n",
    "    n = W[1].shape[1]    # Dimensionality of hidden layer\n",
    "    \n",
    "    \n",
    "    u = torch.matmul(W[0], x) + b[0] + torch.matmul(W[0], torch.mul(torch.ones(W[0].shape[1]),eps)).reshape(-1,1)# TODO\n",
    "    l = torch.matmul(W[0], x) + b[0] - torch.matmul(W[0], torch.mul(torch.ones(W[0].shape[1]),eps)).reshape(-1,1)# TODO\n",
    "    \n",
    "    S = [] #TODO\n",
    "    S_plus = [] # TODO\n",
    "    S_min = [] # TODO\n",
    "    \n",
    "    i = 0\n",
    "    for u_j, l_j in zip(list(u), list(l)):\n",
    "        if u_j <= 0:\n",
    "            S_min.append(i)\n",
    "        if l_j >=0 :\n",
    "            S_plus.append(i)\n",
    "        if (u_j >= 0) and (l_j <=0):\n",
    "            S.append(i)\n",
    "        i += 1\n",
    "    \n",
    "    return l, u, S, S_min, S_plus"
   ]
  },
  {
   "cell_type": "markdown",
   "metadata": {
    "id": "VaMhcqTvLyhX"
   },
   "source": [
    "Given the tuple $(l,u,S,S^-,S^+)$, we are ready to calculate the dual objective itself. This function should take in an input image, the classifier, a vector $c$, and the $(l,u,S,S^-,S^+)$ from the previous function in order to output \n",
    "$$\n",
    "d^*(\\vec{x},\\vec{c})= \n",
    "-\\vec{\\hat{\\nu}}_1^\\top \\vec{x}-\\varepsilon\\|\\vec{\\hat{\\nu}}_1\\|_1-\\sum_{i=1}^{2}\\vec{\\nu}_{i+1}^\\top \\vec{b}_i+\\sum_{j\\in S\\\n",
    "}l_{j}\\text{ReLU}(\\nu_{2j})\n",
    "$$\n",
    "\n",
    "Where the $\\vec{\\nu}$ vectors are computed as\n",
    "$$\n",
    "\\begin{aligned}\n",
    "&\\vec{\\nu}_3=-\\vec{c}\\\\\n",
    "&\\vec{\\hat{\\nu}}_2=W_2^\\top \\vec{\\nu}_{3}\\\\\n",
    "&\\nu_{2j}=0 && \\forall j\\in S^-\\\\\n",
    "&\\nu_{2j}=\\hat{\\nu}_{2j} && \\forall j\\in S^+\\\\\n",
    "&\\nu_{2j}=\\dfrac{u_{j}}{u_{j}-l_{j}}\\hat{\\nu}_{2j} && \\forall j\\in S\\\\\n",
    "&\\vec{\\hat{\\nu}}_1=W_1^\\top \\vec{\\nu_{2}}\n",
    "&\\end{aligned}.\n",
    "$$\n",
    "\n",
    "Again, see Section 6 of the PDF for more details.\n",
    "\n",
    "One efficient way to compute $\\vec{\\nu}_2$ is to rewrite it as\n",
    "$$\\vec{\\nu}_2= D\\vec{\\hat{\\nu}}_2,$$\n",
    "where $D$ is a diagonal matrix defined  by\n",
    "$$\n",
    "D_{jj}=\\begin{cases}\n",
    "0 & j\\in S^-\\\\\n",
    "\\hat{\\nu}_{2j} & j\\in S^+\\\\\n",
    "\\dfrac{u_{j}}{u_{j}-l_{j}}\\hat{\\nu}_{2j} & j\\in S.\n",
    "\\end{cases}\n",
    "$$"
   ]
  },
  {
   "cell_type": "code",
   "execution_count": 123,
   "metadata": {
    "id": "chl5lue0Lyha"
   },
   "outputs": [],
   "source": [
    "# Constructs the diagonal D matrix from the S sets, n (the dimensionality\n",
    "# of the hidden layer), u, and l.\n",
    "def StoD(S_min, S_plus, S, n, u, l):\n",
    "    '''\n",
    "    Given upper and lower bounds U and L, as well\n",
    "    as the corresponding sets S_MIN, S_PLUS, and S,\n",
    "    as well as the dimension of the hidden layer N,\n",
    "    returns the corresponding diagonal matrix D.\n",
    "    '''\n",
    "    d = []\n",
    "    for j in range(n):\n",
    "        if j in S:\n",
    "            d.append((u[j] / (u[j] - l[j])).item())\n",
    "        elif j in S_plus:\n",
    "            d.append(1)\n",
    "        elif j in S_min:\n",
    "            d.append(0)\n",
    "        else:\n",
    "            assert False, 'StoD error.'\n",
    "    return torch.diag(torch.Tensor(d)).to(device)\n",
    "\n",
    "def dual_forward(x, net, c, eps, l, u, S, S_min, S_plus):\n",
    "    '''\n",
    "    Calculates the dual objective for classifier NET with input X\n",
    "    and dual input C and epsilon parameter S. Depends on lower\n",
    "    and upper bounds L and U, as well as the corresponding sets\n",
    "    S, S_MIN, S_PLUS.\n",
    "    '''\n",
    "    x = x[0].reshape(-1, 1)    # Reshape input to more convenient dimensions\n",
    "    W = [layer.weight for layer in net.layers]    # Array of network weights (W matrices)\n",
    "    b = [layer.bias.reshape(-1, 1) for layer in net.layers]    # Array of network biases (b vectors)\n",
    "    n = W[1].shape[1]    # Dimensionality of hidden layer\n",
    "    D = StoD(S_min, S_plus, S, n, u, l)\n",
    "    # TODO: Your code here!\n",
    "    \n",
    "    \n",
    "    \n",
    "    v3 = -c\n",
    "    v2_hat = W[1].T @ v3 # W2 \n",
    "    \n",
    "    temp_ReLU = nn.ReLU()\n",
    "    v2 = D @ v2_hat\n",
    "    #v2 = temp_ReLU(v2_hat)\n",
    "    \n",
    "    v1_hat = W[0].T @ v2 # W1 \n",
    "    \n",
    "    first_term = - v1_hat.T @ x \n",
    "    second_term = - eps * torch.linalg.vector_norm(v1_hat, ord=1)\n",
    "    \n",
    "    result = first_term + second_term\n",
    "    \n",
    "    #third term\n",
    "    #result -= v2.T @ b[0] + v3.T @ b[1]\n",
    "    \n",
    "    \n",
    "    for pair in [[v2, b[0]], [v3, b[1]]]: # what is v????\n",
    "        temp_v = pair[0]\n",
    "        temp_b = pair[1]\n",
    "        temp_term = temp_v.T @ temp_b\n",
    "        result -= temp_term\n",
    "    \n",
    "    #fourth term\n",
    "\n",
    "    # sum up S\n",
    "    #temp =  l * temp_ReLU(torch.div(u, u-l)).reshape(-1, 1)\n",
    "    \n",
    "    for j in S:\n",
    "        v2_hat_j = v2_hat[j]\n",
    "        S_v2_j = (u[j]/(u[j]-l[j])) * v2_hat_j\n",
    "        temp_sum = l[j] * temp_ReLU(S_v2_j).reshape(-1, 1)\n",
    "        result += temp_sum\n",
    "    \n",
    "    return result # TODO"
   ]
  },
  {
   "cell_type": "markdown",
   "metadata": {
    "id": "HagySRiNLyhu"
   },
   "source": [
    "Now, we can use the dual network to check the robustness of the network we just trained on sample input images. We can do this for \n",
    "$$\\vec{c}_j={\\vec{y}_{\\text{true}}}-\\vec{e}_{j}$$\n",
    "for each $j\\in[10]$.\n",
    "\n",
    "The output is a vector where the $j$th element is the difference between the model's confidence in the true class and the $j$th class; if $d^*(\\vec{x},\\vec{c}_j)$ is nonnegative for every $j\\in[10]$, then we know the model is robust to perturbations of size $\\varepsilon$. See Section 8 of the PDF for more details.\n",
    "\n",
    "Try running the following block of code for different values of $\\varepsilon\\in\\{0.05, 0.1, 0.2, 0.3, 0.4\\}$, and compare the robustness guarantees here with the classifier's performance on the FGSM data from before."
   ]
  },
  {
   "cell_type": "code",
   "execution_count": 232,
   "metadata": {},
   "outputs": [
    {
     "name": "stdout",
     "output_type": "stream",
     "text": [
      "torch.Size([28, 28])\n"
     ]
    },
    {
     "data": {
      "image/png": "[encoded data removed]",
      "text/plain": [
       "<Figure size 640x480 with 1 Axes>"
      ]
     },
     "metadata": {},
     "output_type": "display_data"
    },
    {
     "data": {
      "image/png": "[encoded data removed]",
      "text/plain": [
       "<Figure size 640x480 with 1 Axes>"
      ]
     },
     "metadata": {},
     "output_type": "display_data"
    }
   ],
   "source": [
    "print(\"Sample PixMix Alterations\")\n",
    "x, labels = test_iter.next()\n",
    "x = x[0].unsqueeze(0)\n",
    "imshow(x[0,0])\n",
    "pix = pixmix(x.squeeze(0).squeeze(0))\n",
    "imshow(pix.squeeze(0))\n"
   ]
  },
  {
   "cell_type": "code",
   "execution_count": 199,
   "metadata": {
    "id": "Oolez9vfpQ9p"
   },
   "outputs": [],
   "source": [
    "eps = 0.05"
   ]
  },
  {
   "cell_type": "code",
   "execution_count": 200,
   "metadata": {},
   "outputs": [
    {
     "data": {
      "image/png": "[encoded data removed]",
      "text/plain": [
       "<Figure size 640x480 with 1 Axes>"
      ]
     },
     "metadata": {},
     "output_type": "display_data"
    }
   ],
   "source": [
    "x, labels = test_iter.next()\n",
    "x, labels = next(test_iter)\n",
    "x = x[0].unsqueeze(0)\n",
    "labels = labels[0].unsqueeze(0)\n",
    "imshow(x[0,0])\n",
    "x_prime = FGSM(x, labels, net, eps)\n",
    "x = x.to(device)\n",
    "labels = labels.to(device)"
   ]
  },
  {
   "cell_type": "code",
   "execution_count": 201,
   "metadata": {
    "colab": {
     "base_uri": "https://localhost:8080/",
     "height": 375
    },
    "id": "WY6TfL2GLyhw",
    "outputId": "01d27007-5ae8-4675-de12-ea7ef12d68d1",
    "scrolled": false
   },
   "outputs": [
    {
     "name": "stdout",
     "output_type": "stream",
     "text": [
      "tensor([4])\n",
      "0 17.080739974975586\n",
      "0 16.01530647277832\n",
      "1 16.495615005493164\n",
      "1 14.004545211791992\n",
      "2 20.77235221862793\n",
      "2 17.792997360229492\n",
      "3 17.686988830566406\n",
      "3 15.348034858703613\n",
      "4 17.122060775756836\n",
      "4 14.901432991027832\n",
      "5 12.30077838897705\n",
      "5 10.349495887756348\n",
      "6 3.3176918029785156\n",
      "6 1.5781501531600952\n",
      "7 19.43744659423828\n",
      "7 17.609344482421875\n",
      "8 10.686287879943848\n",
      "8 9.028590202331543\n",
      "9 15.862046241760254\n",
      "9 15.466729164123535\n"
     ]
    }
   ],
   "source": [
    "#x, labels = next(test_iter)\n",
    "# We are still using the same sample input x as before.\n",
    "#l, u, S, S_min, S_plus = dual_bounds(x, net, eps)\n",
    "\n",
    "# Here, we loop through each column c_j defined above, and output the \n",
    "# objective value for the dual function with input c.\n",
    "print(labels)\n",
    "for i in range(10):\n",
    "    c = torch.zeros(10, 1).to(device)\n",
    "   \n",
    "    if True:#!= labels:\n",
    "        c[i] = -1\n",
    "        c[labels] = 1\n",
    "        print(i, dual_forward(x, net, c, eps, l, u, S, S_min, S_plus).item())\n",
    "        #print()\n",
    "        print(i, dual_forward(x_prime, net, c, eps, l, u, S, S_min, S_plus).item())"
   ]
  },
  {
   "cell_type": "markdown",
   "metadata": {
    "id": "v--Zs9ELLyiB"
   },
   "source": [
    "**Q: What do the dual network outputs tell you about the robustness of the classifier? How does this compare to the classifier's performance (in particular, the $\\vec{c}_j^\\top \\vec{\\hat{z}}_3$ scores) on FGSM outputs? How does your answer change with epsilon?**\n",
    "\n",
    "\n",
    "<span style=\"color:blue\"> A: If the outputs are positive value for all $j \\neq i_{true}$, then the classifier is robust to adversarial attacks with epsilon bounds. The classifier performs \"worse\" in adversarially-optimized examples since its outsputs are lower than its outputs without the perturbation (i.e. it is less confident in its answer) but the values are still positive, to it is correctly classifying outputs (at least for the example above). The performace of the network decreases as $\\varepsilon$ increases.</span>"
   ]
  },
  {
   "cell_type": "markdown",
   "metadata": {
    "id": "dr3xSI7EMv4l"
   },
   "source": [
    "**Q: Suppose you have a deep neural classifier that you want to defend against adversarial attacks. That is, you want to detect and discard any input images that were possibly adversarially perturbed. How might you do this with the robustness certificate you have implemented?**\n",
    "\n",
    "<span style=\"color:blue\"> A: With the robutstness certificate we can say confidently that there can be no perturbation within the epsilon bound on the $\\|\\vec{x}-\\vec{x}'\\|_{\\infty}$ such that the classifier is incorrect on the perturbed data. In essence, we would then want to discard all input images that have a negative $\\vec{c}_j^\\top \\vec{\\hat{z}}_3$ value for any $j \\neq i_{true}$. </span>"
   ]
  },
  {
   "cell_type": "markdown",
   "metadata": {
    "id": "s--Ae8VpLyiN"
   },
   "source": [
    "## Robust training"
   ]
  },
  {
   "cell_type": "markdown",
   "metadata": {
    "id": "LohSkAUMLBfa"
   },
   "source": [
    "The following function should implement the robust loss from section A of the PDF. This loss is an upper bound on the worst-case loss within an $\\epsilon$ ball of the original training input. Thus, training using this new loss should result in a classifier that is more robust than one trained on the original cross-entropy loss.\n",
    "\n",
    "There are no mandatory questions here, but feel free to experiment with this robust training, and compare the performance here (measured by the dual objective certificate, as well as original/FGSM accuracy) to that of the original. You can also try training a model using the original loss first, then fine-tuning with the robust loss."
   ]
  },
  {
   "cell_type": "code",
   "execution_count": 133,
   "metadata": {
    "id": "uTv9zjuqLyiQ"
   },
   "outputs": [],
   "source": [
    "def robust_loss(x, label, net, eps, criterion):\n",
    "    '''\n",
    "    Given a batch of input images X, its corresponding lables LABEL,\n",
    "    the classifier NET, epsilon value EPS, and original loss\n",
    "    function CRITERION, returns the robust loss of NET w/r/t\n",
    "    the original loss function, on the input image.\n",
    "    '''\n",
    "    l, u, S, S_min, S_plus = dual_bounds(x, net, eps)\n",
    "    # We assume there are 10 classes.\n",
    "    e_y = torch.zeros(10, 1)\n",
    "    e_y[label] = 1\n",
    "    c = e_y @ torch.ones(1, 10) - torch.eye(10)\n",
    "    J = dual_forward(x, net, c, eps, l, u, S, S_min, S_plus).unsqueeze(0)\n",
    "    return criterion(-J, label.unsqueeze(0))"
   ]
  },
  {
   "cell_type": "code",
   "execution_count": 134,
   "metadata": {
    "id": "Nj_VkNaNLyiY"
   },
   "outputs": [],
   "source": [
    "def robust_train(net, criterion, trainloader, eps, lr=0.001):\n",
    "    '''\n",
    "    Trains the classifier NET using the robust version\n",
    "    of the original loss function CRITERION with paramater EPS,\n",
    "    using training data from TRAINLOADER and with learning rate LR.\n",
    "    \n",
    "    Note that we half the learning rate each epoch.\n",
    "    '''\n",
    "    optimizer = optim.Adam(net.parameters(), lr=lr)\n",
    "    \n",
    "    for epoch in range(3):\n",
    "        for j, data in enumerate(trainloader, 0):\n",
    "            for param_group in optimizer.param_groups:\n",
    "                param_group['lr'] = lr * 0.5 ** (epoch)\n",
    "\n",
    "            inputs, labels = data\n",
    "            optimizer.zero_grad()\n",
    "            loss = 0\n",
    "            for i in range(inputs.shape[0]):\n",
    "                x = inputs[i].unsqueeze(0)\n",
    "                label = labels[i].unsqueeze(0)\n",
    "                loss += robust_loss(x, label, net, eps, criterion)\n",
    "            loss.backward()\n",
    "            optimizer.step()\n",
    "    \n",
    "            if j % 500 == 0:\n",
    "                print('Epoch', epoch, 'Iter:', j, 'Loss', loss.item())"
   ]
  },
  {
   "cell_type": "code",
   "execution_count": 135,
   "metadata": {
    "id": "uptKAqFcpQ9r"
   },
   "outputs": [
    {
     "name": "stdout",
     "output_type": "stream",
     "text": [
      "Epoch 0 Iter: 0 Loss 9.092131614685059\n",
      "Epoch 0 Iter: 500 Loss 1.73777437210083\n",
      "Epoch 0 Iter: 1000 Loss 0.6386905312538147\n",
      "Epoch 0 Iter: 1500 Loss 0.06095507740974426\n",
      "Epoch 0 Iter: 2000 Loss 2.0795907974243164\n",
      "Epoch 0 Iter: 2500 Loss 0.4304622411727905\n",
      "Epoch 0 Iter: 3000 Loss 0.5023509860038757\n",
      "Epoch 0 Iter: 3500 Loss 1.2398611307144165\n",
      "Epoch 0 Iter: 4000 Loss 2.4881815910339355\n",
      "Epoch 0 Iter: 4500 Loss 0.01574050262570381\n",
      "Epoch 0 Iter: 5000 Loss 0.16504336893558502\n",
      "Epoch 0 Iter: 5500 Loss 1.3438102006912231\n",
      "Epoch 0 Iter: 6000 Loss 0.20641100406646729\n",
      "Epoch 0 Iter: 6500 Loss 0.12106574326753616\n",
      "Epoch 0 Iter: 7000 Loss 6.198548316955566\n",
      "Epoch 0 Iter: 7500 Loss 1.0179328918457031\n",
      "Epoch 0 Iter: 8000 Loss 0.04461207985877991\n",
      "Epoch 0 Iter: 8500 Loss 0.015454759821295738\n",
      "Epoch 0 Iter: 9000 Loss 0.04472357779741287\n",
      "Epoch 0 Iter: 9500 Loss 1.054599404335022\n",
      "Epoch 0 Iter: 10000 Loss 0.5454970598220825\n",
      "Epoch 0 Iter: 10500 Loss 1.526585340499878\n",
      "Epoch 0 Iter: 11000 Loss 0.4376038908958435\n",
      "Epoch 0 Iter: 11500 Loss 0.01049793604761362\n",
      "Epoch 0 Iter: 12000 Loss 0.2506922483444214\n",
      "Epoch 0 Iter: 12500 Loss 0.016639554873108864\n",
      "Epoch 0 Iter: 13000 Loss 0.4640946686267853\n",
      "Epoch 0 Iter: 13500 Loss 0.9367887377738953\n",
      "Epoch 0 Iter: 14000 Loss 0.03975680470466614\n",
      "Epoch 0 Iter: 14500 Loss 1.5445739030838013\n",
      "Epoch 1 Iter: 0 Loss 0.11662302166223526\n",
      "Epoch 1 Iter: 500 Loss 0.04090573266148567\n",
      "Epoch 1 Iter: 1000 Loss 0.158128559589386\n",
      "Epoch 1 Iter: 1500 Loss 0.004488527309149504\n",
      "Epoch 1 Iter: 2000 Loss 0.0008065899601206183\n",
      "Epoch 1 Iter: 2500 Loss 0.004392627626657486\n",
      "Epoch 1 Iter: 3000 Loss 0.09064121544361115\n",
      "Epoch 1 Iter: 3500 Loss 0.03917346149682999\n",
      "Epoch 1 Iter: 4000 Loss 0.32990384101867676\n",
      "Epoch 1 Iter: 4500 Loss 0.0015446942998096347\n",
      "Epoch 1 Iter: 5000 Loss 0.19960905611515045\n",
      "Epoch 1 Iter: 5500 Loss 0.04449707269668579\n",
      "Epoch 1 Iter: 6000 Loss 0.008779262192547321\n",
      "Epoch 1 Iter: 6500 Loss 0.005965534597635269\n",
      "Epoch 1 Iter: 7000 Loss 0.004419434815645218\n",
      "Epoch 1 Iter: 7500 Loss 2.1973822116851807\n",
      "Epoch 1 Iter: 8000 Loss 0.32517436146736145\n",
      "Epoch 1 Iter: 8500 Loss 0.3934060335159302\n",
      "Epoch 1 Iter: 9000 Loss 0.04765972122550011\n",
      "Epoch 1 Iter: 9500 Loss 0.3024112582206726\n",
      "Epoch 1 Iter: 10000 Loss 0.003356592496857047\n",
      "Epoch 1 Iter: 10500 Loss 3.842907667160034\n",
      "Epoch 1 Iter: 11000 Loss 0.029676908627152443\n",
      "Epoch 1 Iter: 11500 Loss 0.0012468063505366445\n",
      "Epoch 1 Iter: 12000 Loss 0.523959219455719\n",
      "Epoch 1 Iter: 12500 Loss 0.00023506477009505033\n",
      "Epoch 1 Iter: 13000 Loss 0.002658227924257517\n",
      "Epoch 1 Iter: 13500 Loss 0.06575405597686768\n",
      "Epoch 1 Iter: 14000 Loss 0.021749448031187057\n",
      "Epoch 1 Iter: 14500 Loss 0.35885781049728394\n",
      "Epoch 2 Iter: 0 Loss 0.01889324188232422\n",
      "Epoch 2 Iter: 500 Loss 0.0017659394070506096\n",
      "Epoch 2 Iter: 1000 Loss 0.003324083285406232\n",
      "Epoch 2 Iter: 1500 Loss 0.009169137105345726\n",
      "Epoch 2 Iter: 2000 Loss 0.42885544896125793\n",
      "Epoch 2 Iter: 2500 Loss 0.037666380405426025\n",
      "Epoch 2 Iter: 3000 Loss 0.05105051025748253\n",
      "Epoch 2 Iter: 3500 Loss 0.2669225335121155\n",
      "Epoch 2 Iter: 4000 Loss 5.027294635772705\n",
      "Epoch 2 Iter: 4500 Loss 0.0029997413512319326\n",
      "Epoch 2 Iter: 5000 Loss 0.0887862890958786\n",
      "Epoch 2 Iter: 5500 Loss 0.11269048601388931\n",
      "Epoch 2 Iter: 6000 Loss 0.06132093816995621\n",
      "Epoch 2 Iter: 6500 Loss 0.054461315274238586\n",
      "Epoch 2 Iter: 7000 Loss 0.032560672610998154\n",
      "Epoch 2 Iter: 7500 Loss 0.007363311480730772\n",
      "Epoch 2 Iter: 8000 Loss 0.01620466820895672\n",
      "Epoch 2 Iter: 8500 Loss 0.225531205534935\n",
      "Epoch 2 Iter: 9000 Loss 0.004086450207978487\n",
      "Epoch 2 Iter: 9500 Loss 5.396266937255859\n",
      "Epoch 2 Iter: 10000 Loss 2.6568403244018555\n",
      "Epoch 2 Iter: 10500 Loss 0.005818378180265427\n",
      "Epoch 2 Iter: 11000 Loss 0.32042479515075684\n",
      "Epoch 2 Iter: 11500 Loss 0.0017708237282931805\n",
      "Epoch 2 Iter: 12000 Loss 0.034251462668180466\n",
      "Epoch 2 Iter: 12500 Loss 0.014958519488573074\n",
      "Epoch 2 Iter: 13000 Loss 0.002335572149604559\n",
      "Epoch 2 Iter: 13500 Loss 0.025071587413549423\n",
      "Epoch 2 Iter: 14000 Loss 0.023100104182958603\n",
      "Epoch 2 Iter: 14500 Loss 0.0038116031792014837\n"
     ]
    }
   ],
   "source": [
    "robust_net = Net()\n",
    "robust_net.to(device)\n",
    "\n",
    "criterion = nn.CrossEntropyLoss()\n",
    "robust_train(robust_net, criterion, trainloader, 0.1, 0.001)"
   ]
  },
  {
   "cell_type": "code",
   "execution_count": 136,
   "metadata": {},
   "outputs": [],
   "source": [
    "#acc_fgsm = {}\n",
    "#pixmix_acc_fgsm = {}\n",
    "#dual_acc_fgsm = {}\n",
    "for eps in np.arange(0, 0.61, 0.025):\n",
    "    #acc_fgsm[eps] =  accuracy_on_FGSM(net, testloader, eps)\n",
    "    #pixmix_acc_fgsm[eps] =  accuracy_on_FGSM(pixmix_net, testloader, eps)\n",
    "    dual_acc_fgsm[eps] =  accuracy_on_FGSM(robust_net, testloader, eps)"
   ]
  },
  {
   "cell_type": "markdown",
   "metadata": {},
   "source": [
    "## Performance Comparison\n",
    "\n",
    "Beyond $\\epsilon \\gtrapprox 0.22$, the network trained using PixMix outperforms the other networks. \n",
    "\n",
    "Interestingly, the pixmix-trained model seems to have a nonlinearity at $\\epsilon \\approx 0.08$, after which performace declines much slower. "
   ]
  },
  {
   "cell_type": "code",
   "execution_count": 233,
   "metadata": {},
   "outputs": [
    {
     "data": {
      "image/png": "[encoded data removed]",
      "text/plain": [
       "<Figure size 640x480 with 1 Axes>"
      ]
     },
     "metadata": {},
     "output_type": "display_data"
    }
   ],
   "source": [
    "plt.plot(acc_fgsm.keys(), acc_fgsm.values(), color=\"blue\", label=\"Primal\")\n",
    "plt.plot(pixmix_acc_fgsm.keys(), pixmix_acc_fgsm.values(), color=\"orange\", label=\"Primal with PixMix\")\n",
    "plt.plot(dual_acc_fgsm.keys(), dual_acc_fgsm.values(), color=\"green\", label=\"Dual\")\n",
    "plt.legend(loc=\"upper right\")\n",
    "plt.xlabel(\"epsilon\")\n",
    "plt.ylabel(\"accuracy\")\n",
    "plt.show()"
   ]
  },
  {
   "cell_type": "code",
   "execution_count": null,
   "metadata": {},
   "outputs": [],
   "source": []
  }
 ],
 "metadata": {
  "accelerator": "GPU",
  "colab": {
   "machine_shape": "hm",
   "provenance": []
  },
  "gpuClass": "premium",
  "kernelspec": {
   "display_name": "Python 3 (ipykernel)",
   "language": "python",
   "name": "python3"
  },
  "language_info": {
   "codemirror_mode": {
    "name": "ipython",
    "version": 3
   },
   "file_extension": ".py",
   "mimetype": "text/x-python",
   "name": "python",
   "nbconvert_exporter": "python",
   "pygments_lexer": "ipython3",
   "version": "3.8.13"
  },
  "widgets": {
   "application/vnd.jupyter.widget-state+json": {
    "0e7cf5ac9a8349ddb2753b84dc5e430f": {
     "model_module": "@jupyter-widgets/base",
     "model_module_version": "1.2.0",
     "model_name": "LayoutModel",
     "state": {
      "_model_module": "@jupyter-widgets/base",
      "_model_module_version": "1.2.0",
      "_model_name": "LayoutModel",
      "_view_count": null,
      "_view_module": "@jupyter-widgets/base",
      "_view_module_version": "1.2.0",
      "_view_name": "LayoutView",
      "align_content": null,
      "align_items": null,
      "align_self": null,
      "border": null,
      "bottom": null,
      "display": null,
      "flex": null,
      "flex_flow": null,
      "grid_area": null,
      "grid_auto_columns": null,
      "grid_auto_flow": null,
      "grid_auto_rows": null,
      "grid_column": null,
      "grid_gap": null,
      "grid_row": null,
      "grid_template_areas": null,
      "grid_template_columns": null,
      "grid_template_rows": null,
      "height": null,
      "justify_content": null,
      "justify_items": null,
      "left": null,
      "margin": null,
      "max_height": null,
      "max_width": null,
      "min_height": null,
      "min_width": null,
      "object_fit": null,
      "object_position": null,
      "order": null,
      "overflow": null,
      "overflow_x": null,
      "overflow_y": null,
      "padding": null,
      "right": null,
      "top": null,
      "visibility": null,
      "width": null
     }
    },
    "0f5c58e1e2214d50afb34c18b7a8b521": {
     "model_module": "@jupyter-widgets/controls",
     "model_module_version": "1.5.0",
     "model_name": "HTMLModel",
     "state": {
      "_dom_classes": [],
      "_model_module": "@jupyter-widgets/controls",
      "_model_module_version": "1.5.0",
      "_model_name": "HTMLModel",
      "_view_count": null,
      "_view_module": "@jupyter-widgets/controls",
      "_view_module_version": "1.5.0",
      "_view_name": "HTMLView",
      "description": "",
      "description_tooltip": null,
      "layout": "IPY_MODEL_0e7cf5ac9a8349ddb2753b84dc5e430f",
      "placeholder": "​",
      "style": "IPY_MODEL_a4dda98dde4b4245a04b2c2ff98534e2",
      "value": " 1648877/1648877 [00:00&lt;00:00, 34887337.74it/s]"
     }
    },
    "1938e8c0f68e4cd8a8cbc511a6f8d482": {
     "model_module": "@jupyter-widgets/base",
     "model_module_version": "1.2.0",
     "model_name": "LayoutModel",
     "state": {
      "_model_module": "@jupyter-widgets/base",
      "_model_module_version": "1.2.0",
      "_model_name": "LayoutModel",
      "_view_count": null,
      "_view_module": "@jupyter-widgets/base",
      "_view_module_version": "1.2.0",
      "_view_name": "LayoutView",
      "align_content": null,
      "align_items": null,
      "align_self": null,
      "border": null,
      "bottom": null,
      "display": null,
      "flex": null,
      "flex_flow": null,
      "grid_area": null,
      "grid_auto_columns": null,
      "grid_auto_flow": null,
      "grid_auto_rows": null,
      "grid_column": null,
      "grid_gap": null,
      "grid_row": null,
      "grid_template_areas": null,
      "grid_template_columns": null,
      "grid_template_rows": null,
      "height": null,
      "justify_content": null,
      "justify_items": null,
      "left": null,
      "margin": null,
      "max_height": null,
      "max_width": null,
      "min_height": null,
      "min_width": null,
      "object_fit": null,
      "object_position": null,
      "order": null,
      "overflow": null,
      "overflow_x": null,
      "overflow_y": null,
      "padding": null,
      "right": null,
      "top": null,
      "visibility": null,
      "width": null
     }
    },
    "239855550b7e4e1d9916f8a28f71a0fc": {
     "model_module": "@jupyter-widgets/controls",
     "model_module_version": "1.5.0",
     "model_name": "ProgressStyleModel",
     "state": {
      "_model_module": "@jupyter-widgets/controls",
      "_model_module_version": "1.5.0",
      "_model_name": "ProgressStyleModel",
      "_view_count": null,
      "_view_module": "@jupyter-widgets/base",
      "_view_module_version": "1.2.0",
      "_view_name": "StyleView",
      "bar_color": null,
      "description_width": ""
     }
    },
    "2bac7aa23b7a4cb59b9a99b4c7a7afaf": {
     "model_module": "@jupyter-widgets/base",
     "model_module_version": "1.2.0",
     "model_name": "LayoutModel",
     "state": {
      "_model_module": "@jupyter-widgets/base",
      "_model_module_version": "1.2.0",
      "_model_name": "LayoutModel",
      "_view_count": null,
      "_view_module": "@jupyter-widgets/base",
      "_view_module_version": "1.2.0",
      "_view_name": "LayoutView",
      "align_content": null,
      "align_items": null,
      "align_self": null,
      "border": null,
      "bottom": null,
      "display": null,
      "flex": null,
      "flex_flow": null,
      "grid_area": null,
      "grid_auto_columns": null,
      "grid_auto_flow": null,
      "grid_auto_rows": null,
      "grid_column": null,
      "grid_gap": null,
      "grid_row": null,
      "grid_template_areas": null,
      "grid_template_columns": null,
      "grid_template_rows": null,
      "height": null,
      "justify_content": null,
      "justify_items": null,
      "left": null,
      "margin": null,
      "max_height": null,
      "max_width": null,
      "min_height": null,
      "min_width": null,
      "object_fit": null,
      "object_position": null,
      "order": null,
      "overflow": null,
      "overflow_x": null,
      "overflow_y": null,
      "padding": null,
      "right": null,
      "top": null,
      "visibility": null,
      "width": null
     }
    },
    "2c8fdce61e9e48989d3bfa7f085ec314": {
     "model_module": "@jupyter-widgets/base",
     "model_module_version": "1.2.0",
     "model_name": "LayoutModel",
     "state": {
      "_model_module": "@jupyter-widgets/base",
      "_model_module_version": "1.2.0",
      "_model_name": "LayoutModel",
      "_view_count": null,
      "_view_module": "@jupyter-widgets/base",
      "_view_module_version": "1.2.0",
      "_view_name": "LayoutView",
      "align_content": null,
      "align_items": null,
      "align_self": null,
      "border": null,
      "bottom": null,
      "display": null,
      "flex": null,
      "flex_flow": null,
      "grid_area": null,
      "grid_auto_columns": null,
      "grid_auto_flow": null,
      "grid_auto_rows": null,
      "grid_column": null,
      "grid_gap": null,
      "grid_row": null,
      "grid_template_areas": null,
      "grid_template_columns": null,
      "grid_template_rows": null,
      "height": null,
      "justify_content": null,
      "justify_items": null,
      "left": null,
      "margin": null,
      "max_height": null,
      "max_width": null,
      "min_height": null,
      "min_width": null,
      "object_fit": null,
      "object_position": null,
      "order": null,
      "overflow": null,
      "overflow_x": null,
      "overflow_y": null,
      "padding": null,
      "right": null,
      "top": null,
      "visibility": null,
      "width": null
     }
    },
    "2f6f99436cef4622a01cee87dae0b884": {
     "model_module": "@jupyter-widgets/controls",
     "model_module_version": "1.5.0",
     "model_name": "HTMLModel",
     "state": {
      "_dom_classes": [],
      "_model_module": "@jupyter-widgets/controls",
      "_model_module_version": "1.5.0",
      "_model_name": "HTMLModel",
      "_view_count": null,
      "_view_module": "@jupyter-widgets/controls",
      "_view_module_version": "1.5.0",
      "_view_name": "HTMLView",
      "description": "",
      "description_tooltip": null,
      "layout": "IPY_MODEL_6dcc342fb5a944cca55dc6a47b57af9e",
      "placeholder": "​",
      "style": "IPY_MODEL_938b73e7453444f788a1e8b8ba208834",
      "value": " 9912422/9912422 [00:00&lt;00:00, 110680553.95it/s]"
     }
    },
    "3042946cfa01449391db36b136257627": {
     "model_module": "@jupyter-widgets/controls",
     "model_module_version": "1.5.0",
     "model_name": "HTMLModel",
     "state": {
      "_dom_classes": [],
      "_model_module": "@jupyter-widgets/controls",
      "_model_module_version": "1.5.0",
      "_model_name": "HTMLModel",
      "_view_count": null,
      "_view_module": "@jupyter-widgets/controls",
      "_view_module_version": "1.5.0",
      "_view_name": "HTMLView",
      "description": "",
      "description_tooltip": null,
      "layout": "IPY_MODEL_35280467db4c4ac0b1cef6e78fda1946",
      "placeholder": "​",
      "style": "IPY_MODEL_53fb7287d62b43eab117e765ea78865a",
      "value": "100%"
     }
    },
    "35280467db4c4ac0b1cef6e78fda1946": {
     "model_module": "@jupyter-widgets/base",
     "model_module_version": "1.2.0",
     "model_name": "LayoutModel",
     "state": {
      "_model_module": "@jupyter-widgets/base",
      "_model_module_version": "1.2.0",
      "_model_name": "LayoutModel",
      "_view_count": null,
      "_view_module": "@jupyter-widgets/base",
      "_view_module_version": "1.2.0",
      "_view_name": "LayoutView",
      "align_content": null,
      "align_items": null,
      "align_self": null,
      "border": null,
      "bottom": null,
      "display": null,
      "flex": null,
      "flex_flow": null,
      "grid_area": null,
      "grid_auto_columns": null,
      "grid_auto_flow": null,
      "grid_auto_rows": null,
      "grid_column": null,
      "grid_gap": null,
      "grid_row": null,
      "grid_template_areas": null,
      "grid_template_columns": null,
      "grid_template_rows": null,
      "height": null,
      "justify_content": null,
      "justify_items": null,
      "left": null,
      "margin": null,
      "max_height": null,
      "max_width": null,
      "min_height": null,
      "min_width": null,
      "object_fit": null,
      "object_position": null,
      "order": null,
      "overflow": null,
      "overflow_x": null,
      "overflow_y": null,
      "padding": null,
      "right": null,
      "top": null,
      "visibility": null,
      "width": null
     }
    },
    "3dfc31d266504a6c871571a81ea3c4cd": {
     "model_module": "@jupyter-widgets/controls",
     "model_module_version": "1.5.0",
     "model_name": "HTMLModel",
     "state": {
      "_dom_classes": [],
      "_model_module": "@jupyter-widgets/controls",
      "_model_module_version": "1.5.0",
      "_model_name": "HTMLModel",
      "_view_count": null,
      "_view_module": "@jupyter-widgets/controls",
      "_view_module_version": "1.5.0",
      "_view_name": "HTMLView",
      "description": "",
      "description_tooltip": null,
      "layout": "IPY_MODEL_bd93f7d7ff044a25ab883c044c423080",
      "placeholder": "​",
      "style": "IPY_MODEL_43f9dbd63bcf4fe1ab49cb674ba9dfad",
      "value": "100%"
     }
    },
    "412196865fea44e4aaa625663a5478ca": {
     "model_module": "@jupyter-widgets/base",
     "model_module_version": "1.2.0",
     "model_name": "LayoutModel",
     "state": {
      "_model_module": "@jupyter-widgets/base",
      "_model_module_version": "1.2.0",
      "_model_name": "LayoutModel",
      "_view_count": null,
      "_view_module": "@jupyter-widgets/base",
      "_view_module_version": "1.2.0",
      "_view_name": "LayoutView",
      "align_content": null,
      "align_items": null,
      "align_self": null,
      "border": null,
      "bottom": null,
      "display": null,
      "flex": null,
      "flex_flow": null,
      "grid_area": null,
      "grid_auto_columns": null,
      "grid_auto_flow": null,
      "grid_auto_rows": null,
      "grid_column": null,
      "grid_gap": null,
      "grid_row": null,
      "grid_template_areas": null,
      "grid_template_columns": null,
      "grid_template_rows": null,
      "height": null,
      "justify_content": null,
      "justify_items": null,
      "left": null,
      "margin": null,
      "max_height": null,
      "max_width": null,
      "min_height": null,
      "min_width": null,
      "object_fit": null,
      "object_position": null,
      "order": null,
      "overflow": null,
      "overflow_x": null,
      "overflow_y": null,
      "padding": null,
      "right": null,
      "top": null,
      "visibility": null,
      "width": null
     }
    },
    "43f9dbd63bcf4fe1ab49cb674ba9dfad": {
     "model_module": "@jupyter-widgets/controls",
     "model_module_version": "1.5.0",
     "model_name": "DescriptionStyleModel",
     "state": {
      "_model_module": "@jupyter-widgets/controls",
      "_model_module_version": "1.5.0",
      "_model_name": "DescriptionStyleModel",
      "_view_count": null,
      "_view_module": "@jupyter-widgets/base",
      "_view_module_version": "1.2.0",
      "_view_name": "StyleView",
      "description_width": ""
     }
    },
    "4db7853a99574e30be6509f79778906b": {
     "model_module": "@jupyter-widgets/controls",
     "model_module_version": "1.5.0",
     "model_name": "DescriptionStyleModel",
     "state": {
      "_model_module": "@jupyter-widgets/controls",
      "_model_module_version": "1.5.0",
      "_model_name": "DescriptionStyleModel",
      "_view_count": null,
      "_view_module": "@jupyter-widgets/base",
      "_view_module_version": "1.2.0",
      "_view_name": "StyleView",
      "description_width": ""
     }
    },
    "5270fb6044ac4916971d496a1f5c02f3": {
     "model_module": "@jupyter-widgets/controls",
     "model_module_version": "1.5.0",
     "model_name": "HTMLModel",
     "state": {
      "_dom_classes": [],
      "_model_module": "@jupyter-widgets/controls",
      "_model_module_version": "1.5.0",
      "_model_name": "HTMLModel",
      "_view_count": null,
      "_view_module": "@jupyter-widgets/controls",
      "_view_module_version": "1.5.0",
      "_view_name": "HTMLView",
      "description": "",
      "description_tooltip": null,
      "layout": "IPY_MODEL_f599145d36c44b91a64da3416ad8393a",
      "placeholder": "​",
      "style": "IPY_MODEL_a55cfb82577045e1b900fd97d8abe86f",
      "value": " 28881/28881 [00:00&lt;00:00, 1012433.92it/s]"
     }
    },
    "53fb7287d62b43eab117e765ea78865a": {
     "model_module": "@jupyter-widgets/controls",
     "model_module_version": "1.5.0",
     "model_name": "DescriptionStyleModel",
     "state": {
      "_model_module": "@jupyter-widgets/controls",
      "_model_module_version": "1.5.0",
      "_model_name": "DescriptionStyleModel",
      "_view_count": null,
      "_view_module": "@jupyter-widgets/base",
      "_view_module_version": "1.2.0",
      "_view_name": "StyleView",
      "description_width": ""
     }
    },
    "5dc810479d8b4819b8b1f7b58502a752": {
     "model_module": "@jupyter-widgets/controls",
     "model_module_version": "1.5.0",
     "model_name": "ProgressStyleModel",
     "state": {
      "_model_module": "@jupyter-widgets/controls",
      "_model_module_version": "1.5.0",
      "_model_name": "ProgressStyleModel",
      "_view_count": null,
      "_view_module": "@jupyter-widgets/base",
      "_view_module_version": "1.2.0",
      "_view_name": "StyleView",
      "bar_color": null,
      "description_width": ""
     }
    },
    "6275d1b062d1451186940657361cd8f7": {
     "model_module": "@jupyter-widgets/controls",
     "model_module_version": "1.5.0",
     "model_name": "DescriptionStyleModel",
     "state": {
      "_model_module": "@jupyter-widgets/controls",
      "_model_module_version": "1.5.0",
      "_model_name": "DescriptionStyleModel",
      "_view_count": null,
      "_view_module": "@jupyter-widgets/base",
      "_view_module_version": "1.2.0",
      "_view_name": "StyleView",
      "description_width": ""
     }
    },
    "659ca0721fef43319e38a43f11ca13f2": {
     "model_module": "@jupyter-widgets/controls",
     "model_module_version": "1.5.0",
     "model_name": "HBoxModel",
     "state": {
      "_dom_classes": [],
      "_model_module": "@jupyter-widgets/controls",
      "_model_module_version": "1.5.0",
      "_model_name": "HBoxModel",
      "_view_count": null,
      "_view_module": "@jupyter-widgets/controls",
      "_view_module_version": "1.5.0",
      "_view_name": "HBoxView",
      "box_style": "",
      "children": [
       "IPY_MODEL_3dfc31d266504a6c871571a81ea3c4cd",
       "IPY_MODEL_fbbe1dadb04c41aa98c14c3d4be1a73e",
       "IPY_MODEL_5270fb6044ac4916971d496a1f5c02f3"
      ],
      "layout": "IPY_MODEL_978833da39fb4e0aa2cb4d3f756e9ca9"
     }
    },
    "679bf11802e245e4be0e0b037eded30c": {
     "model_module": "@jupyter-widgets/controls",
     "model_module_version": "1.5.0",
     "model_name": "HBoxModel",
     "state": {
      "_dom_classes": [],
      "_model_module": "@jupyter-widgets/controls",
      "_model_module_version": "1.5.0",
      "_model_name": "HBoxModel",
      "_view_count": null,
      "_view_module": "@jupyter-widgets/controls",
      "_view_module_version": "1.5.0",
      "_view_name": "HBoxView",
      "box_style": "",
      "children": [
       "IPY_MODEL_3042946cfa01449391db36b136257627",
       "IPY_MODEL_a2859a4e9f074760bdbb2624dc2ca6d1",
       "IPY_MODEL_2f6f99436cef4622a01cee87dae0b884"
      ],
      "layout": "IPY_MODEL_cdf3108d3ca7433784e1f95f1c34ad30"
     }
    },
    "6dcc342fb5a944cca55dc6a47b57af9e": {
     "model_module": "@jupyter-widgets/base",
     "model_module_version": "1.2.0",
     "model_name": "LayoutModel",
     "state": {
      "_model_module": "@jupyter-widgets/base",
      "_model_module_version": "1.2.0",
      "_model_name": "LayoutModel",
      "_view_count": null,
      "_view_module": "@jupyter-widgets/base",
      "_view_module_version": "1.2.0",
      "_view_name": "LayoutView",
      "align_content": null,
      "align_items": null,
      "align_self": null,
      "border": null,
      "bottom": null,
      "display": null,
      "flex": null,
      "flex_flow": null,
      "grid_area": null,
      "grid_auto_columns": null,
      "grid_auto_flow": null,
      "grid_auto_rows": null,
      "grid_column": null,
      "grid_gap": null,
      "grid_row": null,
      "grid_template_areas": null,
      "grid_template_columns": null,
      "grid_template_rows": null,
      "height": null,
      "justify_content": null,
      "justify_items": null,
      "left": null,
      "margin": null,
      "max_height": null,
      "max_width": null,
      "min_height": null,
      "min_width": null,
      "object_fit": null,
      "object_position": null,
      "order": null,
      "overflow": null,
      "overflow_x": null,
      "overflow_y": null,
      "padding": null,
      "right": null,
      "top": null,
      "visibility": null,
      "width": null
     }
    },
    "6f776de565e746e0ab3ee05e0c39bc38": {
     "model_module": "@jupyter-widgets/controls",
     "model_module_version": "1.5.0",
     "model_name": "HBoxModel",
     "state": {
      "_dom_classes": [],
      "_model_module": "@jupyter-widgets/controls",
      "_model_module_version": "1.5.0",
      "_model_name": "HBoxModel",
      "_view_count": null,
      "_view_module": "@jupyter-widgets/controls",
      "_view_module_version": "1.5.0",
      "_view_name": "HBoxView",
      "box_style": "",
      "children": [
       "IPY_MODEL_ff2206f2bf1e45a2a8ed9a324ea8efa0",
       "IPY_MODEL_a0808e5cb14f4f97b6384016a4961085",
       "IPY_MODEL_c06056491383454397d80f90746f69be"
      ],
      "layout": "IPY_MODEL_2bac7aa23b7a4cb59b9a99b4c7a7afaf"
     }
    },
    "8bb542ef110d451eb46769ed37dcc996": {
     "model_module": "@jupyter-widgets/base",
     "model_module_version": "1.2.0",
     "model_name": "LayoutModel",
     "state": {
      "_model_module": "@jupyter-widgets/base",
      "_model_module_version": "1.2.0",
      "_model_name": "LayoutModel",
      "_view_count": null,
      "_view_module": "@jupyter-widgets/base",
      "_view_module_version": "1.2.0",
      "_view_name": "LayoutView",
      "align_content": null,
      "align_items": null,
      "align_self": null,
      "border": null,
      "bottom": null,
      "display": null,
      "flex": null,
      "flex_flow": null,
      "grid_area": null,
      "grid_auto_columns": null,
      "grid_auto_flow": null,
      "grid_auto_rows": null,
      "grid_column": null,
      "grid_gap": null,
      "grid_row": null,
      "grid_template_areas": null,
      "grid_template_columns": null,
      "grid_template_rows": null,
      "height": null,
      "justify_content": null,
      "justify_items": null,
      "left": null,
      "margin": null,
      "max_height": null,
      "max_width": null,
      "min_height": null,
      "min_width": null,
      "object_fit": null,
      "object_position": null,
      "order": null,
      "overflow": null,
      "overflow_x": null,
      "overflow_y": null,
      "padding": null,
      "right": null,
      "top": null,
      "visibility": null,
      "width": null
     }
    },
    "938b73e7453444f788a1e8b8ba208834": {
     "model_module": "@jupyter-widgets/controls",
     "model_module_version": "1.5.0",
     "model_name": "DescriptionStyleModel",
     "state": {
      "_model_module": "@jupyter-widgets/controls",
      "_model_module_version": "1.5.0",
      "_model_name": "DescriptionStyleModel",
      "_view_count": null,
      "_view_module": "@jupyter-widgets/base",
      "_view_module_version": "1.2.0",
      "_view_name": "StyleView",
      "description_width": ""
     }
    },
    "978833da39fb4e0aa2cb4d3f756e9ca9": {
     "model_module": "@jupyter-widgets/base",
     "model_module_version": "1.2.0",
     "model_name": "LayoutModel",
     "state": {
      "_model_module": "@jupyter-widgets/base",
      "_model_module_version": "1.2.0",
      "_model_name": "LayoutModel",
      "_view_count": null,
      "_view_module": "@jupyter-widgets/base",
      "_view_module_version": "1.2.0",
      "_view_name": "LayoutView",
      "align_content": null,
      "align_items": null,
      "align_self": null,
      "border": null,
      "bottom": null,
      "display": null,
      "flex": null,
      "flex_flow": null,
      "grid_area": null,
      "grid_auto_columns": null,
      "grid_auto_flow": null,
      "grid_auto_rows": null,
      "grid_column": null,
      "grid_gap": null,
      "grid_row": null,
      "grid_template_areas": null,
      "grid_template_columns": null,
      "grid_template_rows": null,
      "height": null,
      "justify_content": null,
      "justify_items": null,
      "left": null,
      "margin": null,
      "max_height": null,
      "max_width": null,
      "min_height": null,
      "min_width": null,
      "object_fit": null,
      "object_position": null,
      "order": null,
      "overflow": null,
      "overflow_x": null,
      "overflow_y": null,
      "padding": null,
      "right": null,
      "top": null,
      "visibility": null,
      "width": null
     }
    },
    "9b31f05d924c4da39bb985156b69a618": {
     "model_module": "@jupyter-widgets/controls",
     "model_module_version": "1.5.0",
     "model_name": "HBoxModel",
     "state": {
      "_dom_classes": [],
      "_model_module": "@jupyter-widgets/controls",
      "_model_module_version": "1.5.0",
      "_model_name": "HBoxModel",
      "_view_count": null,
      "_view_module": "@jupyter-widgets/controls",
      "_view_module_version": "1.5.0",
      "_view_name": "HBoxView",
      "box_style": "",
      "children": [
       "IPY_MODEL_b2ffbff6b4f04a03ba9e15afdc0eac23",
       "IPY_MODEL_a6157916498a4fe5b9625052884c4f4a",
       "IPY_MODEL_0f5c58e1e2214d50afb34c18b7a8b521"
      ],
      "layout": "IPY_MODEL_b5ea3818dfd24f20a5da8b3226209ec2"
     }
    },
    "a0808e5cb14f4f97b6384016a4961085": {
     "model_module": "@jupyter-widgets/controls",
     "model_module_version": "1.5.0",
     "model_name": "FloatProgressModel",
     "state": {
      "_dom_classes": [],
      "_model_module": "@jupyter-widgets/controls",
      "_model_module_version": "1.5.0",
      "_model_name": "FloatProgressModel",
      "_view_count": null,
      "_view_module": "@jupyter-widgets/controls",
      "_view_module_version": "1.5.0",
      "_view_name": "ProgressView",
      "bar_style": "success",
      "description": "",
      "description_tooltip": null,
      "layout": "IPY_MODEL_fca0a1c63b0d4504a7008130dd0c7026",
      "max": 4542,
      "min": 0,
      "orientation": "horizontal",
      "style": "IPY_MODEL_b6b1378e60a942cabab81356df4c982e",
      "value": 4542
     }
    },
    "a2859a4e9f074760bdbb2624dc2ca6d1": {
     "model_module": "@jupyter-widgets/controls",
     "model_module_version": "1.5.0",
     "model_name": "FloatProgressModel",
     "state": {
      "_dom_classes": [],
      "_model_module": "@jupyter-widgets/controls",
      "_model_module_version": "1.5.0",
      "_model_name": "FloatProgressModel",
      "_view_count": null,
      "_view_module": "@jupyter-widgets/controls",
      "_view_module_version": "1.5.0",
      "_view_name": "ProgressView",
      "bar_style": "success",
      "description": "",
      "description_tooltip": null,
      "layout": "IPY_MODEL_412196865fea44e4aaa625663a5478ca",
      "max": 9912422,
      "min": 0,
      "orientation": "horizontal",
      "style": "IPY_MODEL_5dc810479d8b4819b8b1f7b58502a752",
      "value": 9912422
     }
    },
    "a4dda98dde4b4245a04b2c2ff98534e2": {
     "model_module": "@jupyter-widgets/controls",
     "model_module_version": "1.5.0",
     "model_name": "DescriptionStyleModel",
     "state": {
      "_model_module": "@jupyter-widgets/controls",
      "_model_module_version": "1.5.0",
      "_model_name": "DescriptionStyleModel",
      "_view_count": null,
      "_view_module": "@jupyter-widgets/base",
      "_view_module_version": "1.2.0",
      "_view_name": "StyleView",
      "description_width": ""
     }
    },
    "a55cfb82577045e1b900fd97d8abe86f": {
     "model_module": "@jupyter-widgets/controls",
     "model_module_version": "1.5.0",
     "model_name": "DescriptionStyleModel",
     "state": {
      "_model_module": "@jupyter-widgets/controls",
      "_model_module_version": "1.5.0",
      "_model_name": "DescriptionStyleModel",
      "_view_count": null,
      "_view_module": "@jupyter-widgets/base",
      "_view_module_version": "1.2.0",
      "_view_name": "StyleView",
      "description_width": ""
     }
    },
    "a6157916498a4fe5b9625052884c4f4a": {
     "model_module": "@jupyter-widgets/controls",
     "model_module_version": "1.5.0",
     "model_name": "FloatProgressModel",
     "state": {
      "_dom_classes": [],
      "_model_module": "@jupyter-widgets/controls",
      "_model_module_version": "1.5.0",
      "_model_name": "FloatProgressModel",
      "_view_count": null,
      "_view_module": "@jupyter-widgets/controls",
      "_view_module_version": "1.5.0",
      "_view_name": "ProgressView",
      "bar_style": "success",
      "description": "",
      "description_tooltip": null,
      "layout": "IPY_MODEL_2c8fdce61e9e48989d3bfa7f085ec314",
      "max": 1648877,
      "min": 0,
      "orientation": "horizontal",
      "style": "IPY_MODEL_239855550b7e4e1d9916f8a28f71a0fc",
      "value": 1648877
     }
    },
    "a6d04acd67c34ea0bb58c6f8ef12f5e3": {
     "model_module": "@jupyter-widgets/base",
     "model_module_version": "1.2.0",
     "model_name": "LayoutModel",
     "state": {
      "_model_module": "@jupyter-widgets/base",
      "_model_module_version": "1.2.0",
      "_model_name": "LayoutModel",
      "_view_count": null,
      "_view_module": "@jupyter-widgets/base",
      "_view_module_version": "1.2.0",
      "_view_name": "LayoutView",
      "align_content": null,
      "align_items": null,
      "align_self": null,
      "border": null,
      "bottom": null,
      "display": null,
      "flex": null,
      "flex_flow": null,
      "grid_area": null,
      "grid_auto_columns": null,
      "grid_auto_flow": null,
      "grid_auto_rows": null,
      "grid_column": null,
      "grid_gap": null,
      "grid_row": null,
      "grid_template_areas": null,
      "grid_template_columns": null,
      "grid_template_rows": null,
      "height": null,
      "justify_content": null,
      "justify_items": null,
      "left": null,
      "margin": null,
      "max_height": null,
      "max_width": null,
      "min_height": null,
      "min_width": null,
      "object_fit": null,
      "object_position": null,
      "order": null,
      "overflow": null,
      "overflow_x": null,
      "overflow_y": null,
      "padding": null,
      "right": null,
      "top": null,
      "visibility": null,
      "width": null
     }
    },
    "b2ffbff6b4f04a03ba9e15afdc0eac23": {
     "model_module": "@jupyter-widgets/controls",
     "model_module_version": "1.5.0",
     "model_name": "HTMLModel",
     "state": {
      "_dom_classes": [],
      "_model_module": "@jupyter-widgets/controls",
      "_model_module_version": "1.5.0",
      "_model_name": "HTMLModel",
      "_view_count": null,
      "_view_module": "@jupyter-widgets/controls",
      "_view_module_version": "1.5.0",
      "_view_name": "HTMLView",
      "description": "",
      "description_tooltip": null,
      "layout": "IPY_MODEL_cdb8984910674fa094918207887bd6ea",
      "placeholder": "​",
      "style": "IPY_MODEL_6275d1b062d1451186940657361cd8f7",
      "value": "100%"
     }
    },
    "b5ea3818dfd24f20a5da8b3226209ec2": {
     "model_module": "@jupyter-widgets/base",
     "model_module_version": "1.2.0",
     "model_name": "LayoutModel",
     "state": {
      "_model_module": "@jupyter-widgets/base",
      "_model_module_version": "1.2.0",
      "_model_name": "LayoutModel",
      "_view_count": null,
      "_view_module": "@jupyter-widgets/base",
      "_view_module_version": "1.2.0",
      "_view_name": "LayoutView",
      "align_content": null,
      "align_items": null,
      "align_self": null,
      "border": null,
      "bottom": null,
      "display": null,
      "flex": null,
      "flex_flow": null,
      "grid_area": null,
      "grid_auto_columns": null,
      "grid_auto_flow": null,
      "grid_auto_rows": null,
      "grid_column": null,
      "grid_gap": null,
      "grid_row": null,
      "grid_template_areas": null,
      "grid_template_columns": null,
      "grid_template_rows": null,
      "height": null,
      "justify_content": null,
      "justify_items": null,
      "left": null,
      "margin": null,
      "max_height": null,
      "max_width": null,
      "min_height": null,
      "min_width": null,
      "object_fit": null,
      "object_position": null,
      "order": null,
      "overflow": null,
      "overflow_x": null,
      "overflow_y": null,
      "padding": null,
      "right": null,
      "top": null,
      "visibility": null,
      "width": null
     }
    },
    "b6b1378e60a942cabab81356df4c982e": {
     "model_module": "@jupyter-widgets/controls",
     "model_module_version": "1.5.0",
     "model_name": "ProgressStyleModel",
     "state": {
      "_model_module": "@jupyter-widgets/controls",
      "_model_module_version": "1.5.0",
      "_model_name": "ProgressStyleModel",
      "_view_count": null,
      "_view_module": "@jupyter-widgets/base",
      "_view_module_version": "1.2.0",
      "_view_name": "StyleView",
      "bar_color": null,
      "description_width": ""
     }
    },
    "bd93f7d7ff044a25ab883c044c423080": {
     "model_module": "@jupyter-widgets/base",
     "model_module_version": "1.2.0",
     "model_name": "LayoutModel",
     "state": {
      "_model_module": "@jupyter-widgets/base",
      "_model_module_version": "1.2.0",
      "_model_name": "LayoutModel",
      "_view_count": null,
      "_view_module": "@jupyter-widgets/base",
      "_view_module_version": "1.2.0",
      "_view_name": "LayoutView",
      "align_content": null,
      "align_items": null,
      "align_self": null,
      "border": null,
      "bottom": null,
      "display": null,
      "flex": null,
      "flex_flow": null,
      "grid_area": null,
      "grid_auto_columns": null,
      "grid_auto_flow": null,
      "grid_auto_rows": null,
      "grid_column": null,
      "grid_gap": null,
      "grid_row": null,
      "grid_template_areas": null,
      "grid_template_columns": null,
      "grid_template_rows": null,
      "height": null,
      "justify_content": null,
      "justify_items": null,
      "left": null,
      "margin": null,
      "max_height": null,
      "max_width": null,
      "min_height": null,
      "min_width": null,
      "object_fit": null,
      "object_position": null,
      "order": null,
      "overflow": null,
      "overflow_x": null,
      "overflow_y": null,
      "padding": null,
      "right": null,
      "top": null,
      "visibility": null,
      "width": null
     }
    },
    "c06056491383454397d80f90746f69be": {
     "model_module": "@jupyter-widgets/controls",
     "model_module_version": "1.5.0",
     "model_name": "HTMLModel",
     "state": {
      "_dom_classes": [],
      "_model_module": "@jupyter-widgets/controls",
      "_model_module_version": "1.5.0",
      "_model_name": "HTMLModel",
      "_view_count": null,
      "_view_module": "@jupyter-widgets/controls",
      "_view_module_version": "1.5.0",
      "_view_name": "HTMLView",
      "description": "",
      "description_tooltip": null,
      "layout": "IPY_MODEL_a6d04acd67c34ea0bb58c6f8ef12f5e3",
      "placeholder": "​",
      "style": "IPY_MODEL_4db7853a99574e30be6509f79778906b",
      "value": " 4542/4542 [00:00&lt;00:00, 201765.84it/s]"
     }
    },
    "c66f1d3f380444acbdac5e98cfd04831": {
     "model_module": "@jupyter-widgets/controls",
     "model_module_version": "1.5.0",
     "model_name": "DescriptionStyleModel",
     "state": {
      "_model_module": "@jupyter-widgets/controls",
      "_model_module_version": "1.5.0",
      "_model_name": "DescriptionStyleModel",
      "_view_count": null,
      "_view_module": "@jupyter-widgets/base",
      "_view_module_version": "1.2.0",
      "_view_name": "StyleView",
      "description_width": ""
     }
    },
    "cdb8984910674fa094918207887bd6ea": {
     "model_module": "@jupyter-widgets/base",
     "model_module_version": "1.2.0",
     "model_name": "LayoutModel",
     "state": {
      "_model_module": "@jupyter-widgets/base",
      "_model_module_version": "1.2.0",
      "_model_name": "LayoutModel",
      "_view_count": null,
      "_view_module": "@jupyter-widgets/base",
      "_view_module_version": "1.2.0",
      "_view_name": "LayoutView",
      "align_content": null,
      "align_items": null,
      "align_self": null,
      "border": null,
      "bottom": null,
      "display": null,
      "flex": null,
      "flex_flow": null,
      "grid_area": null,
      "grid_auto_columns": null,
      "grid_auto_flow": null,
      "grid_auto_rows": null,
      "grid_column": null,
      "grid_gap": null,
      "grid_row": null,
      "grid_template_areas": null,
      "grid_template_columns": null,
      "grid_template_rows": null,
      "height": null,
      "justify_content": null,
      "justify_items": null,
      "left": null,
      "margin": null,
      "max_height": null,
      "max_width": null,
      "min_height": null,
      "min_width": null,
      "object_fit": null,
      "object_position": null,
      "order": null,
      "overflow": null,
      "overflow_x": null,
      "overflow_y": null,
      "padding": null,
      "right": null,
      "top": null,
      "visibility": null,
      "width": null
     }
    },
    "cdf3108d3ca7433784e1f95f1c34ad30": {
     "model_module": "@jupyter-widgets/base",
     "model_module_version": "1.2.0",
     "model_name": "LayoutModel",
     "state": {
      "_model_module": "@jupyter-widgets/base",
      "_model_module_version": "1.2.0",
      "_model_name": "LayoutModel",
      "_view_count": null,
      "_view_module": "@jupyter-widgets/base",
      "_view_module_version": "1.2.0",
      "_view_name": "LayoutView",
      "align_content": null,
      "align_items": null,
      "align_self": null,
      "border": null,
      "bottom": null,
      "display": null,
      "flex": null,
      "flex_flow": null,
      "grid_area": null,
      "grid_auto_columns": null,
      "grid_auto_flow": null,
      "grid_auto_rows": null,
      "grid_column": null,
      "grid_gap": null,
      "grid_row": null,
      "grid_template_areas": null,
      "grid_template_columns": null,
      "grid_template_rows": null,
      "height": null,
      "justify_content": null,
      "justify_items": null,
      "left": null,
      "margin": null,
      "max_height": null,
      "max_width": null,
      "min_height": null,
      "min_width": null,
      "object_fit": null,
      "object_position": null,
      "order": null,
      "overflow": null,
      "overflow_x": null,
      "overflow_y": null,
      "padding": null,
      "right": null,
      "top": null,
      "visibility": null,
      "width": null
     }
    },
    "f30aae9327b6460785454892c21961ff": {
     "model_module": "@jupyter-widgets/controls",
     "model_module_version": "1.5.0",
     "model_name": "ProgressStyleModel",
     "state": {
      "_model_module": "@jupyter-widgets/controls",
      "_model_module_version": "1.5.0",
      "_model_name": "ProgressStyleModel",
      "_view_count": null,
      "_view_module": "@jupyter-widgets/base",
      "_view_module_version": "1.2.0",
      "_view_name": "StyleView",
      "bar_color": null,
      "description_width": ""
     }
    },
    "f599145d36c44b91a64da3416ad8393a": {
     "model_module": "@jupyter-widgets/base",
     "model_module_version": "1.2.0",
     "model_name": "LayoutModel",
     "state": {
      "_model_module": "@jupyter-widgets/base",
      "_model_module_version": "1.2.0",
      "_model_name": "LayoutModel",
      "_view_count": null,
      "_view_module": "@jupyter-widgets/base",
      "_view_module_version": "1.2.0",
      "_view_name": "LayoutView",
      "align_content": null,
      "align_items": null,
      "align_self": null,
      "border": null,
      "bottom": null,
      "display": null,
      "flex": null,
      "flex_flow": null,
      "grid_area": null,
      "grid_auto_columns": null,
      "grid_auto_flow": null,
      "grid_auto_rows": null,
      "grid_column": null,
      "grid_gap": null,
      "grid_row": null,
      "grid_template_areas": null,
      "grid_template_columns": null,
      "grid_template_rows": null,
      "height": null,
      "justify_content": null,
      "justify_items": null,
      "left": null,
      "margin": null,
      "max_height": null,
      "max_width": null,
      "min_height": null,
      "min_width": null,
      "object_fit": null,
      "object_position": null,
      "order": null,
      "overflow": null,
      "overflow_x": null,
      "overflow_y": null,
      "padding": null,
      "right": null,
      "top": null,
      "visibility": null,
      "width": null
     }
    },
    "fbbe1dadb04c41aa98c14c3d4be1a73e": {
     "model_module": "@jupyter-widgets/controls",
     "model_module_version": "1.5.0",
     "model_name": "FloatProgressModel",
     "state": {
      "_dom_classes": [],
      "_model_module": "@jupyter-widgets/controls",
      "_model_module_version": "1.5.0",
      "_model_name": "FloatProgressModel",
      "_view_count": null,
      "_view_module": "@jupyter-widgets/controls",
      "_view_module_version": "1.5.0",
      "_view_name": "ProgressView",
      "bar_style": "success",
      "description": "",
      "description_tooltip": null,
      "layout": "IPY_MODEL_8bb542ef110d451eb46769ed37dcc996",
      "max": 28881,
      "min": 0,
      "orientation": "horizontal",
      "style": "IPY_MODEL_f30aae9327b6460785454892c21961ff",
      "value": 28881
     }
    },
    "fca0a1c63b0d4504a7008130dd0c7026": {
     "model_module": "@jupyter-widgets/base",
     "model_module_version": "1.2.0",
     "model_name": "LayoutModel",
     "state": {
      "_model_module": "@jupyter-widgets/base",
      "_model_module_version": "1.2.0",
      "_model_name": "LayoutModel",
      "_view_count": null,
      "_view_module": "@jupyter-widgets/base",
      "_view_module_version": "1.2.0",
      "_view_name": "LayoutView",
      "align_content": null,
      "align_items": null,
      "align_self": null,
      "border": null,
      "bottom": null,
      "display": null,
      "flex": null,
      "flex_flow": null,
      "grid_area": null,
      "grid_auto_columns": null,
      "grid_auto_flow": null,
      "grid_auto_rows": null,
      "grid_column": null,
      "grid_gap": null,
      "grid_row": null,
      "grid_template_areas": null,
      "grid_template_columns": null,
      "grid_template_rows": null,
      "height": null,
      "justify_content": null,
      "justify_items": null,
      "left": null,
      "margin": null,
      "max_height": null,
      "max_width": null,
      "min_height": null,
      "min_width": null,
      "object_fit": null,
      "object_position": null,
      "order": null,
      "overflow": null,
      "overflow_x": null,
      "overflow_y": null,
      "padding": null,
      "right": null,
      "top": null,
      "visibility": null,
      "width": null
     }
    },
    "ff2206f2bf1e45a2a8ed9a324ea8efa0": {
     "model_module": "@jupyter-widgets/controls",
     "model_module_version": "1.5.0",
     "model_name": "HTMLModel",
     "state": {
      "_dom_classes": [],
      "_model_module": "@jupyter-widgets/controls",
      "_model_module_version": "1.5.0",
      "_model_name": "HTMLModel",
      "_view_count": null,
      "_view_module": "@jupyter-widgets/controls",
      "_view_module_version": "1.5.0",
      "_view_name": "HTMLView",
      "description": "",
      "description_tooltip": null,
      "layout": "IPY_MODEL_1938e8c0f68e4cd8a8cbc511a6f8d482",
      "placeholder": "​",
      "style": "IPY_MODEL_c66f1d3f380444acbdac5e98cfd04831",
      "value": "100%"
     }
    }
   }
  }
 },
 "nbformat": 4,
 "nbformat_minor": 1
}
